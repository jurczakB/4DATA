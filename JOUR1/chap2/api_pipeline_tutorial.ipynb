{
 "cells": [
  {
   "cell_type": "markdown",
   "id": "ba2ea4ac",
   "metadata": {},
   "source": [
    "# **Mini-Formation : Utilisation des API dans les Pipelines de Données**\n",
    "Ce notebook vous guidera à travers l'utilisation des **API REST** pour l'ingestion de données dans un pipeline de données.\n",
    "\n",
    "**Objectifs :**\n",
    "- Comprendre les bases des API REST (GET, POST, PUT, DELETE)\n",
    "- Extraire des données d'APIs publiques et les stocker dans une base de données\n",
    "- Automatiser l'ingestion de données via un pipeline\n",
    "- Gérer l'authentification et la pagination\n"
   ]
  },
  {
   "cell_type": "markdown",
   "id": "164966c6",
   "metadata": {},
   "source": [
    "## **1. Installation des Bibliothèques Nécessaires**"
   ]
  },
  {
   "cell_type": "code",
   "execution_count": 17,
   "id": "35926e0a",
   "metadata": {},
   "outputs": [
    {
     "name": "stdout",
     "output_type": "stream",
     "text": [
      "Requirement already satisfied: requests in /home/benjamin-jurczak/anaconda3/lib/python3.12/site-packages (2.31.0)\n",
      "Requirement already satisfied: pandas in /home/benjamin-jurczak/anaconda3/lib/python3.12/site-packages (2.2.2)\n",
      "Requirement already satisfied: sqlalchemy in /home/benjamin-jurczak/anaconda3/lib/python3.12/site-packages (1.4.54)\n",
      "Requirement already satisfied: charset-normalizer<4,>=2 in /home/benjamin-jurczak/anaconda3/lib/python3.12/site-packages (from requests) (3.3.2)\n",
      "Requirement already satisfied: idna<4,>=2.5 in /home/benjamin-jurczak/anaconda3/lib/python3.12/site-packages (from requests) (3.7)\n",
      "Requirement already satisfied: urllib3<3,>=1.21.1 in /home/benjamin-jurczak/anaconda3/lib/python3.12/site-packages (from requests) (2.2.3)\n",
      "Requirement already satisfied: certifi>=2017.4.17 in /home/benjamin-jurczak/anaconda3/lib/python3.12/site-packages (from requests) (2024.8.30)\n",
      "Requirement already satisfied: numpy>=1.26.0 in /home/benjamin-jurczak/anaconda3/lib/python3.12/site-packages (from pandas) (1.26.4)\n",
      "Requirement already satisfied: python-dateutil>=2.8.2 in /home/benjamin-jurczak/anaconda3/lib/python3.12/site-packages (from pandas) (2.9.0.post0)\n",
      "Requirement already satisfied: pytz>=2020.1 in /home/benjamin-jurczak/anaconda3/lib/python3.12/site-packages (from pandas) (2024.1)\n",
      "Requirement already satisfied: tzdata>=2022.7 in /home/benjamin-jurczak/anaconda3/lib/python3.12/site-packages (from pandas) (2023.3)\n",
      "Requirement already satisfied: greenlet!=0.4.17 in /home/benjamin-jurczak/anaconda3/lib/python3.12/site-packages (from sqlalchemy) (3.0.1)\n",
      "Requirement already satisfied: six>=1.5 in /home/benjamin-jurczak/anaconda3/lib/python3.12/site-packages (from python-dateutil>=2.8.2->pandas) (1.16.0)\n",
      "Note: you may need to restart the kernel to use updated packages.\n"
     ]
    }
   ],
   "source": [
    "%pip install requests pandas sqlalchemy"
   ]
  },
  {
   "cell_type": "markdown",
   "id": "b8ca2928",
   "metadata": {},
   "source": [
    "## **2. Importation des Modules**"
   ]
  },
  {
   "cell_type": "code",
   "execution_count": 18,
   "id": "5c2cc7ed",
   "metadata": {},
   "outputs": [],
   "source": [
    "\n",
    "import requests\n",
    "import pandas as pd\n",
    "import sqlite3\n",
    "from sqlalchemy import create_engine\n",
    "import json\n"
   ]
  },
  {
   "cell_type": "markdown",
   "id": "b0bc2f2e",
   "metadata": {},
   "source": [
    "## **3. Introduction aux API REST**\n",
    "Une API REST (Representational State Transfer) permet d'échanger des données entre des systèmes via des requêtes HTTP. Les méthodes principales sont :\n",
    "\n",
    "- `GET` : Récupérer des données\n",
    "- `POST` : Envoyer de nouvelles données\n",
    "- `PUT` : Mettre à jour des données existantes\n",
    "- `DELETE` : Supprimer des données\n",
    "\n",
    "Nous allons maintenant faire des appels API et manipuler les données reçues."
   ]
  },
  {
   "cell_type": "markdown",
   "id": "5b3ae8ef",
   "metadata": {},
   "source": [
    "## **4. Effectuer une Requête API avec `requests`**"
   ]
  },
  {
   "cell_type": "code",
   "execution_count": 19,
   "id": "b248ed15",
   "metadata": {},
   "outputs": [
    {
     "name": "stdout",
     "output_type": "stream",
     "text": [
      "Données récupérées avec succès !\n",
      "[\n",
      "  {\n",
      "    \"userId\": 1,\n",
      "    \"id\": 1,\n",
      "    \"title\": \"sunt aut facere repellat provident occaecati excepturi optio reprehenderit\",\n",
      "    \"body\": \"quia et suscipit\\nsuscipit recusandae consequuntur expedita et cum\\nreprehenderit molestiae ut ut quas totam\\nnostrum rerum est autem sunt rem eveniet architecto\"\n",
      "  },\n",
      "  {\n",
      "    \"userId\": 1,\n",
      "    \"id\": 2,\n",
      "    \"title\": \"qui est esse\",\n",
      "    \"body\": \"est rerum tempore vitae\\nsequi sint nihil reprehenderit dolor beatae ea dolores neque\\nfugiat blanditiis voluptate porro vel nihil molestiae ut reiciendis\\nqui aperiam non debitis possimus qui neque nisi nulla\"\n",
      "  }\n",
      "]\n"
     ]
    }
   ],
   "source": [
    "\n",
    "# URL d'une API publique (exemple : JSONPlaceholder)\n",
    "url = \"https://jsonplaceholder.typicode.com/posts\"\n",
    "\n",
    "# Faire une requête GET\n",
    "response = requests.get(url)\n",
    "\n",
    "# Vérifier si la requête a réussi\n",
    "if response.status_code == 200:\n",
    "    data = response.json()\n",
    "    print(\"Données récupérées avec succès !\")\n",
    "    print(json.dumps(data[:2], indent=2))  # Affiche les 2 premiers résultats\n",
    "else:\n",
    "    print(\"Erreur lors de la requête :\", response.status_code)\n"
   ]
  },
  {
   "cell_type": "markdown",
   "id": "b938cb12",
   "metadata": {},
   "source": [
    "## **5. Transformer les Données API en DataFrame**"
   ]
  },
  {
   "cell_type": "code",
   "execution_count": 20,
   "id": "28a604f3",
   "metadata": {},
   "outputs": [
    {
     "name": "stdout",
     "output_type": "stream",
     "text": [
      "   userId  id                                              title  \\\n",
      "0       1   1  sunt aut facere repellat provident occaecati e...   \n",
      "1       1   2                                       qui est esse   \n",
      "2       1   3  ea molestias quasi exercitationem repellat qui...   \n",
      "3       1   4                               eum et est occaecati   \n",
      "4       1   5                                 nesciunt quas odio   \n",
      "\n",
      "                                                body  \n",
      "0  quia et suscipit\\nsuscipit recusandae consequu...  \n",
      "1  est rerum tempore vitae\\nsequi sint nihil repr...  \n",
      "2  et iusto sed quo iure\\nvoluptatem occaecati om...  \n",
      "3  ullam et saepe reiciendis voluptatem adipisci\\...  \n",
      "4  repudiandae veniam quaerat sunt sed\\nalias aut...  \n"
     ]
    }
   ],
   "source": [
    "\n",
    "# Convertir les données JSON en DataFrame pandas\n",
    "df = pd.DataFrame(data)\n",
    "print(df.head())  # Afficher les premières lignes\n"
   ]
  },
  {
   "cell_type": "markdown",
   "id": "59e5b882",
   "metadata": {},
   "source": [
    "## **6. Stockage des Données API dans une Base de Données**"
   ]
  },
  {
   "cell_type": "code",
   "execution_count": 21,
   "id": "a2b1d0bc",
   "metadata": {},
   "outputs": [
    {
     "name": "stdout",
     "output_type": "stream",
     "text": [
      "Données enregistrées avec succès dans SQLite.\n",
      "    userId   id                                              title  \\\n",
      "0        1    1  sunt aut facere repellat provident occaecati e...   \n",
      "1        1    2                                       qui est esse   \n",
      "2        1    3  ea molestias quasi exercitationem repellat qui...   \n",
      "3        1    4                               eum et est occaecati   \n",
      "4        1    5                                 nesciunt quas odio   \n",
      "..     ...  ...                                                ...   \n",
      "95      10   96  quaerat velit veniam amet cupiditate aut numqu...   \n",
      "96      10   97         quas fugiat ut perspiciatis vero provident   \n",
      "97      10   98                        laboriosam dolor voluptates   \n",
      "98      10   99  temporibus sit alias delectus eligendi possimu...   \n",
      "99      10  100              at nam consequatur ea labore ea harum   \n",
      "\n",
      "                                                 body  \n",
      "0   quia et suscipit\\nsuscipit recusandae consequu...  \n",
      "1   est rerum tempore vitae\\nsequi sint nihil repr...  \n",
      "2   et iusto sed quo iure\\nvoluptatem occaecati om...  \n",
      "3   ullam et saepe reiciendis voluptatem adipisci\\...  \n",
      "4   repudiandae veniam quaerat sunt sed\\nalias aut...  \n",
      "..                                                ...  \n",
      "95  in non odio excepturi sint eum\\nlabore volupta...  \n",
      "96  eum non blanditiis soluta porro quibusdam volu...  \n",
      "97  doloremque ex facilis sit sint culpa\\nsoluta a...  \n",
      "98  quo deleniti praesentium dicta non quod\\naut e...  \n",
      "99  cupiditate quo est a modi nesciunt soluta\\nips...  \n",
      "\n",
      "[100 rows x 4 columns]\n"
     ]
    }
   ],
   "source": [
    "import sqlite3\n",
    "import pandas as pd\n",
    "\n",
    "# Connexion directe à SQLite\n",
    "conn = sqlite3.connect(\"api_data.db\")\n",
    "\n",
    "# Stocker le DataFrame en SQLite\n",
    "df.to_sql(\"posts\", conn, if_exists=\"replace\", index=False)\n",
    "\n",
    "print(\"Données enregistrées avec succès dans SQLite.\")\n",
    "\n",
    "# Vérifier les données\n",
    "df_from_db = pd.read_sql(\"SELECT * FROM posts\", conn)\n",
    "print(df_from_db)\n",
    "\n",
    "# Fermer la connexion\n",
    "conn.close()\n"
   ]
  },
  {
   "cell_type": "markdown",
   "id": "09cd6a8c",
   "metadata": {},
   "source": [
    "## **7. Automatisation du Pipeline API**\n",
    "Nous allons créer une fonction qui :\n",
    "- Fait une requête API\n",
    "- Transforme les données\n",
    "- Stocke les résultats en base de données\n",
    "- Peut être exécutée automatiquement\n"
   ]
  },
  {
   "cell_type": "code",
   "execution_count": 23,
   "id": "ae83fb26",
   "metadata": {},
   "outputs": [
    {
     "name": "stdout",
     "output_type": "stream",
     "text": [
      "Données mises à jour dans la table comments.\n",
      "   postId  id                                       name  \\\n",
      "0       1   1               id labore ex et quam laborum   \n",
      "1       1   2  quo vero reiciendis velit similique earum   \n",
      "2       1   3              odio adipisci rerum aut animi   \n",
      "3       1   4                             alias odio sit   \n",
      "4       1   5      vero eaque aliquid doloribus et culpa   \n",
      "\n",
      "                    email                                               body  \n",
      "0      Eliseo@gardner.biz  laudantium enim quasi est quidem magnam volupt...  \n",
      "1  Jayne_Kuhic@sydney.com  est natus enim nihil est dolore omnis voluptat...  \n",
      "2     Nikita@garfield.biz  quia molestiae reprehenderit quasi aspernatur\\...  \n",
      "3           Lew@alysha.tv  non et atque\\noccaecati deserunt quas accusant...  \n",
      "4       Hayden@althea.biz  harum non quasi et ratione\\ntempore iure ex vo...  \n"
     ]
    }
   ],
   "source": [
    "import requests\n",
    "import pandas as pd\n",
    "import sqlite3\n",
    "\n",
    "# Connexion à SQLite avec sqlite3\n",
    "conn = sqlite3.connect(\"api_data.db\")  # Crée ou ouvre la base SQLite\n",
    "\n",
    "def fetch_and_store_data(api_url, table_name, conn):\n",
    "    \"\"\"Récupère des données depuis une API et les stocke dans une base SQLite\"\"\"\n",
    "    response = requests.get(api_url)\n",
    "\n",
    "    if response.status_code == 200:\n",
    "        data = response.json()\n",
    "        df = pd.DataFrame(data)\n",
    "\n",
    "        # Stocker directement avec sqlite3\n",
    "        df.to_sql(table_name, conn, if_exists=\"replace\", index=False)\n",
    "\n",
    "        print(f\"Données mises à jour dans la table {table_name}.\")\n",
    "    else:\n",
    "        print(f\"Échec de la récupération des données. Code : {response.status_code}\")\n",
    "\n",
    "# Exécuter le pipeline\n",
    "fetch_and_store_data(\"https://jsonplaceholder.typicode.com/comments\", \"comments\", conn)\n",
    "\n",
    "# Vérifier les données enregistrées\n",
    "df_from_db = pd.read_sql(\"SELECT * FROM comments\", conn)\n",
    "print(df_from_db.head())\n",
    "\n",
    "# Fermer la connexion\n",
    "conn.close()\n"
   ]
  },
  {
   "cell_type": "markdown",
   "id": "ca739c68",
   "metadata": {},
   "source": [
    "## **8. Conclusion**\n",
    "- Nous avons vu comment **extraire des données depuis une API**.\n",
    "- Nous avons appris à **stocker ces données en base de données**.\n",
    "- Nous avons automatisé un **pipeline de récupération des données**.\n",
    "\n",
    "**À tester :** Essayez d'exécuter ce pipeline avec une autre API publique ! 🚀"
   ]
  }
 ],
 "metadata": {
  "kernelspec": {
   "display_name": "base",
   "language": "python",
   "name": "python3"
  },
  "language_info": {
   "codemirror_mode": {
    "name": "ipython",
    "version": 3
   },
   "file_extension": ".py",
   "mimetype": "text/x-python",
   "name": "python",
   "nbconvert_exporter": "python",
   "pygments_lexer": "ipython3",
   "version": "3.12.7"
  }
 },
 "nbformat": 4,
 "nbformat_minor": 5
}
