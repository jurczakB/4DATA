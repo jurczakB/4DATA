{
 "cells": [
  {
   "cell_type": "markdown",
   "id": "439fc9d3",
   "metadata": {},
   "source": [
    "# **Introduction à SQL avec Python**\n",
    "Ce notebook est une mini formation sur **SQL avec Python**.\n",
    "Il couvre l'exécution de requêtes SQL avec `SQLite`, `pandas` et `SQLAlchemy`.\n",
    "\n",
    "**Objectifs :**\n",
    "- Apprendre à créer et manipuler une base de données avec SQLite.\n",
    "- Exécuter des requêtes SQL directement depuis Python.\n",
    "- Charger des données SQL dans `pandas` pour l'analyse.\n"
   ]
  },
  {
   "cell_type": "markdown",
   "id": "f4a05b8e",
   "metadata": {},
   "source": [
    "## **1. Installation et Importation des Bibliothèques**"
   ]
  },
  {
   "cell_type": "code",
   "execution_count": 3,
   "id": "05c80822",
   "metadata": {},
   "outputs": [
    {
     "name": "stdout",
     "output_type": "stream",
     "text": [
      "Requirement already satisfied: pandas in /home/benjamin-jurczak/anaconda3/lib/python3.12/site-packages (2.2.2)\n",
      "Requirement already satisfied: sqlalchemy in /home/benjamin-jurczak/anaconda3/lib/python3.12/site-packages (2.0.30)\n",
      "Requirement already satisfied: numpy>=1.26.0 in /home/benjamin-jurczak/anaconda3/lib/python3.12/site-packages (from pandas) (1.26.4)\n",
      "Requirement already satisfied: python-dateutil>=2.8.2 in /home/benjamin-jurczak/anaconda3/lib/python3.12/site-packages (from pandas) (2.9.0.post0)\n",
      "Requirement already satisfied: pytz>=2020.1 in /home/benjamin-jurczak/anaconda3/lib/python3.12/site-packages (from pandas) (2024.1)\n",
      "Requirement already satisfied: tzdata>=2022.7 in /home/benjamin-jurczak/anaconda3/lib/python3.12/site-packages (from pandas) (2023.3)\n",
      "Requirement already satisfied: typing-extensions>=4.6.0 in /home/benjamin-jurczak/anaconda3/lib/python3.12/site-packages (from sqlalchemy) (4.12.2)\n",
      "Requirement already satisfied: greenlet!=0.4.17 in /home/benjamin-jurczak/anaconda3/lib/python3.12/site-packages (from sqlalchemy) (3.0.1)\n",
      "Requirement already satisfied: six>=1.5 in /home/benjamin-jurczak/anaconda3/lib/python3.12/site-packages (from python-dateutil>=2.8.2->pandas) (1.16.0)\n",
      "Note: you may need to restart the kernel to use updated packages.\n"
     ]
    }
   ],
   "source": [
    "%pip install pandas sqlalchemy"
   ]
  },
  {
   "cell_type": "code",
   "execution_count": 4,
   "id": "81d76339",
   "metadata": {},
   "outputs": [],
   "source": [
    "\n",
    "import sqlite3\n",
    "import pandas as pd\n",
    "from sqlalchemy import create_engine\n"
   ]
  },
  {
   "cell_type": "markdown",
   "id": "51eae8cf",
   "metadata": {},
   "source": [
    "## **2. Création d'une Base de Données SQLite**"
   ]
  },
  {
   "cell_type": "code",
   "execution_count": 5,
   "id": "d41e9aa2",
   "metadata": {},
   "outputs": [
    {
     "name": "stdout",
     "output_type": "stream",
     "text": [
      "Base de données et table créées.\n"
     ]
    }
   ],
   "source": [
    "\n",
    "# Connexion à une base SQLite (ou création si elle n'existe pas)\n",
    "conn = sqlite3.connect(\"database.db\")\n",
    "cursor = conn.cursor()\n",
    "\n",
    "# Création d'une table Users\n",
    "cursor.execute('''\n",
    "    CREATE TABLE IF NOT EXISTS Users (\n",
    "        id INTEGER PRIMARY KEY,\n",
    "        name TEXT NOT NULL,\n",
    "        age INTEGER,\n",
    "        city TEXT\n",
    "    )\n",
    "''')\n",
    "\n",
    "conn.commit()\n",
    "print(\"Base de données et table créées.\")\n"
   ]
  },
  {
   "cell_type": "markdown",
   "id": "375fd463",
   "metadata": {},
   "source": [
    "## **3. Insertion de Données**"
   ]
  },
  {
   "cell_type": "code",
   "execution_count": 6,
   "id": "4efe8c7a",
   "metadata": {},
   "outputs": [
    {
     "name": "stdout",
     "output_type": "stream",
     "text": [
      "Données insérées.\n"
     ]
    }
   ],
   "source": [
    "\n",
    "# Insertion de quelques utilisateurs\n",
    "cursor.execute(\"INSERT INTO Users (name, age, city) VALUES ('Alice', 25, 'Paris')\")\n",
    "cursor.execute(\"INSERT INTO Users (name, age, city) VALUES ('Bob', 30, 'Lyon')\")\n",
    "cursor.execute(\"INSERT INTO Users (name, age, city) VALUES ('Charlie', 35, 'Marseille')\")\n",
    "\n",
    "conn.commit()\n",
    "print(\"Données insérées.\")\n"
   ]
  },
  {
   "cell_type": "markdown",
   "id": "c5a94fe9",
   "metadata": {},
   "source": [
    "## **4. Lecture des Données**"
   ]
  },
  {
   "cell_type": "code",
   "execution_count": 7,
   "id": "660af3c9",
   "metadata": {},
   "outputs": [
    {
     "name": "stdout",
     "output_type": "stream",
     "text": [
      "(1, 'Alice', 25, 'Paris')\n",
      "(2, 'Bob', 30, 'Lyon')\n",
      "(3, 'Charlie', 35, 'Marseille')\n"
     ]
    }
   ],
   "source": [
    "\n",
    "# Lecture de toutes les données\n",
    "cursor.execute(\"SELECT * FROM Users\")\n",
    "rows = cursor.fetchall()\n",
    "\n",
    "for row in rows:\n",
    "    print(row)\n"
   ]
  },
  {
   "cell_type": "markdown",
   "id": "99f673c0",
   "metadata": {},
   "source": [
    "## **5. Exécution de Requêtes SQL avec pandas**"
   ]
  },
  {
   "cell_type": "code",
   "execution_count": 8,
   "id": "e86c6703",
   "metadata": {},
   "outputs": [
    {
     "name": "stdout",
     "output_type": "stream",
     "text": [
      "   id     name  age       city\n",
      "0   1    Alice   25      Paris\n",
      "1   2      Bob   30       Lyon\n",
      "2   3  Charlie   35  Marseille\n"
     ]
    }
   ],
   "source": [
    "\n",
    "# Charger les données dans un DataFrame pandas\n",
    "df = pd.read_sql(\"SELECT * FROM Users\", conn)\n",
    "print(df)\n"
   ]
  },
  {
   "cell_type": "markdown",
   "id": "2843dcb7",
   "metadata": {},
   "source": [
    "## **6. Requêtes SQL avec Filtres et Conditions**"
   ]
  },
  {
   "cell_type": "code",
   "execution_count": 9,
   "id": "e8c788c8",
   "metadata": {},
   "outputs": [
    {
     "name": "stdout",
     "output_type": "stream",
     "text": [
      "   id     name  age       city\n",
      "0   3  Charlie   35  Marseille\n"
     ]
    }
   ],
   "source": [
    "\n",
    "# Sélectionner les utilisateurs âgés de plus de 30 ans\n",
    "df_filtered = pd.read_sql(\"SELECT * FROM Users WHERE age > 30\", conn)\n",
    "print(df_filtered)\n"
   ]
  },
  {
   "cell_type": "markdown",
   "id": "cb0b5c4f",
   "metadata": {},
   "source": [
    "## **7. Agrégations et GroupBy en SQL**"
   ]
  },
  {
   "cell_type": "code",
   "execution_count": 10,
   "id": "ce8dd418",
   "metadata": {},
   "outputs": [
    {
     "name": "stdout",
     "output_type": "stream",
     "text": [
      "        city  total\n",
      "0       Lyon      1\n",
      "1  Marseille      1\n",
      "2      Paris      1\n"
     ]
    }
   ],
   "source": [
    "\n",
    "# Nombre d'utilisateurs par ville\n",
    "df_grouped = pd.read_sql(\"SELECT city, COUNT(*) as total FROM Users GROUP BY city\", conn)\n",
    "print(df_grouped)\n"
   ]
  },
  {
   "cell_type": "markdown",
   "id": "b1b11c92",
   "metadata": {},
   "source": [
    "## **8. Jointures en SQL**"
   ]
  },
  {
   "cell_type": "code",
   "execution_count": 11,
   "id": "deceedea",
   "metadata": {},
   "outputs": [
    {
     "name": "stdout",
     "output_type": "stream",
     "text": [
      "    name   city  amount\n",
      "0  Alice  Paris   100.5\n",
      "1    Bob   Lyon   200.0\n",
      "2  Alice  Paris    50.0\n"
     ]
    }
   ],
   "source": [
    "\n",
    "# Création d'une nouvelle table 'Orders'\n",
    "cursor.execute('''\n",
    "    CREATE TABLE IF NOT EXISTS Orders (\n",
    "        id INTEGER PRIMARY KEY,\n",
    "        user_id INTEGER,\n",
    "        amount FLOAT,\n",
    "        FOREIGN KEY (user_id) REFERENCES Users(id)\n",
    "    )\n",
    "''')\n",
    "\n",
    "# Insertion de commandes\n",
    "cursor.execute(\"INSERT INTO Orders (user_id, amount) VALUES (1, 100.5)\")\n",
    "cursor.execute(\"INSERT INTO Orders (user_id, amount) VALUES (2, 200.0)\")\n",
    "cursor.execute(\"INSERT INTO Orders (user_id, amount) VALUES (1, 50.0)\")\n",
    "\n",
    "conn.commit()\n",
    "\n",
    "# Jointure entre Users et Orders\n",
    "df_joined = pd.read_sql('''\n",
    "    SELECT Users.name, Users.city, Orders.amount \n",
    "    FROM Users \n",
    "    INNER JOIN Orders ON Users.id = Orders.user_id\n",
    "''', conn)\n",
    "\n",
    "print(df_joined)\n"
   ]
  },
  {
   "cell_type": "markdown",
   "id": "2e6f2e4b",
   "metadata": {},
   "source": [
    "## **9. Mise à Jour et Suppression de Données**"
   ]
  },
  {
   "cell_type": "code",
   "execution_count": 12,
   "id": "b0187b78",
   "metadata": {},
   "outputs": [
    {
     "name": "stdout",
     "output_type": "stream",
     "text": [
      "   id   name  age   city\n",
      "0   1  Alice   28  Paris\n",
      "1   2    Bob   30   Lyon\n"
     ]
    }
   ],
   "source": [
    "\n",
    "# Mise à jour de l'âge d'un utilisateur\n",
    "cursor.execute(\"UPDATE Users SET age = 28 WHERE name = 'Alice'\")\n",
    "conn.commit()\n",
    "\n",
    "# Suppression d'un utilisateur\n",
    "cursor.execute(\"DELETE FROM Users WHERE name = 'Charlie'\")\n",
    "conn.commit()\n",
    "\n",
    "# Vérification des changements\n",
    "df_updated = pd.read_sql(\"SELECT * FROM Users\", conn)\n",
    "print(df_updated)\n"
   ]
  },
  {
   "cell_type": "markdown",
   "id": "804f61d1",
   "metadata": {},
   "source": [
    "## **10. Utilisation de SQLAlchemy pour la Gestion des Bases de Données**"
   ]
  },
  {
   "cell_type": "code",
   "execution_count": 13,
   "id": "37b1ef5e",
   "metadata": {},
   "outputs": [
    {
     "name": "stdout",
     "output_type": "stream",
     "text": [
      "   id   name  age   city\n",
      "0   1  Alice   28  Paris\n",
      "1   2    Bob   30   Lyon\n"
     ]
    }
   ],
   "source": [
    "\n",
    "# Création d'un moteur SQLAlchemy\n",
    "engine = create_engine(\"sqlite:///database.db\")\n",
    "\n",
    "# Lecture des données avec SQLAlchemy et pandas\n",
    "df_sqlalchemy = pd.read_sql(\"SELECT * FROM Users\", engine)\n",
    "print(df_sqlalchemy)\n"
   ]
  },
  {
   "cell_type": "markdown",
   "id": "0017b8b3",
   "metadata": {},
   "source": [
    "## **11. Fermeture de la Connexion**"
   ]
  },
  {
   "cell_type": "code",
   "execution_count": 14,
   "id": "bcb58290",
   "metadata": {},
   "outputs": [
    {
     "name": "stdout",
     "output_type": "stream",
     "text": [
      "Connexion fermée.\n"
     ]
    }
   ],
   "source": [
    "\n",
    "# Fermeture de la connexion\n",
    "conn.close()\n",
    "print(\"Connexion fermée.\")\n"
   ]
  },
  {
   "cell_type": "markdown",
   "id": "901d18a0",
   "metadata": {},
   "source": [
    "## **12. Conclusion**\n",
    "- Nous avons vu comment utiliser SQL avec Python.\n",
    "- `sqlite3` permet d'exécuter des requêtes SQL.\n",
    "- `pandas` et `SQLAlchemy` permettent une intégration efficace avec SQL.\n",
    "\n",
    "**À tester :** Essayez de créer une nouvelle table et d'exécuter vos propres requêtes ! 🚀"
   ]
  }
 ],
 "metadata": {
  "kernelspec": {
   "display_name": "base",
   "language": "python",
   "name": "python3"
  },
  "language_info": {
   "codemirror_mode": {
    "name": "ipython",
    "version": 3
   },
   "file_extension": ".py",
   "mimetype": "text/x-python",
   "name": "python",
   "nbconvert_exporter": "python",
   "pygments_lexer": "ipython3",
   "version": "3.12.7"
  }
 },
 "nbformat": 4,
 "nbformat_minor": 5
}
