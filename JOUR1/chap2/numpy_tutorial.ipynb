{
 "cells": [
  {
   "cell_type": "markdown",
   "id": "25e2eea4",
   "metadata": {},
   "source": [
    "# **Introduction à NumPy**\n",
    "Ce notebook est une mini formation sur `NumPy`, illustrée avec des exemples pratiques.\n"
   ]
  },
  {
   "cell_type": "markdown",
   "id": "1d1d4728",
   "metadata": {},
   "source": [
    "## **1. Installation et importation**"
   ]
  },
  {
   "cell_type": "code",
   "execution_count": 1,
   "id": "22c9af6e",
   "metadata": {},
   "outputs": [
    {
     "name": "stdout",
     "output_type": "stream",
     "text": [
      "Requirement already satisfied: numpy in /home/benjamin-jurczak/anaconda3/lib/python3.12/site-packages (1.26.4)\n",
      "Note: you may need to restart the kernel to use updated packages.\n"
     ]
    }
   ],
   "source": [
    "%pip install numpy"
   ]
  },
  {
   "cell_type": "code",
   "execution_count": 2,
   "id": "f7fa5064",
   "metadata": {},
   "outputs": [],
   "source": [
    "import numpy as np"
   ]
  },
  {
   "cell_type": "markdown",
   "id": "cd67eb81",
   "metadata": {},
   "source": [
    "## **2. Création et manipulation des tableaux NumPy**"
   ]
  },
  {
   "cell_type": "markdown",
   "id": "ccc9df6f",
   "metadata": {},
   "source": [
    "### **2.1 Création d'arrays**"
   ]
  },
  {
   "cell_type": "code",
   "execution_count": 3,
   "id": "563f8299",
   "metadata": {},
   "outputs": [
    {
     "name": "stdout",
     "output_type": "stream",
     "text": [
      "[1 2 3 4 5]\n",
      "[[1 2 3]\n",
      " [4 5 6]]\n"
     ]
    }
   ],
   "source": [
    "\n",
    "# Création d'un tableau à partir d'une liste\n",
    "arr1 = np.array([1, 2, 3, 4, 5])\n",
    "print(arr1)\n",
    "\n",
    "# Création d'un tableau multidimensionnel\n",
    "arr2 = np.array([[1, 2, 3], [4, 5, 6]])\n",
    "print(arr2)\n"
   ]
  },
  {
   "cell_type": "markdown",
   "id": "3fe48750",
   "metadata": {},
   "source": [
    "### **2.2 Création d'arrays spécifiques**"
   ]
  },
  {
   "cell_type": "code",
   "execution_count": 4,
   "id": "aecb0c3f",
   "metadata": {},
   "outputs": [
    {
     "name": "stdout",
     "output_type": "stream",
     "text": [
      "[[0. 0. 0.]\n",
      " [0. 0. 0.]\n",
      " [0. 0. 0.]]\n",
      "[[1. 1. 1. 1.]\n",
      " [1. 1. 1. 1.]]\n",
      "[0 2 4 6 8]\n",
      "[0.   0.25 0.5  0.75 1.  ]\n",
      "[[0.96400074 0.54805251 0.86142384]\n",
      " [0.0055127  0.78695864 0.76147642]\n",
      " [0.75260953 0.81823296 0.72920731]]\n"
     ]
    }
   ],
   "source": [
    "\n",
    "# Tableau de zéros\n",
    "arr_zeros = np.zeros((3, 3))\n",
    "print(arr_zeros)\n",
    "\n",
    "# Tableau de uns\n",
    "arr_ones = np.ones((2, 4))\n",
    "print(arr_ones)\n",
    "\n",
    "# Tableau d'une séquence de nombres\n",
    "arr_range = np.arange(0, 10, 2)  # De 0 à 10 avec un pas de 2\n",
    "print(arr_range)\n",
    "\n",
    "# Tableau de valeurs équidistantes\n",
    "arr_linspace = np.linspace(0, 1, 5)  # 5 valeurs entre 0 et 1\n",
    "print(arr_linspace)\n",
    "\n",
    "# Tableau aléatoire\n",
    "arr_random = np.random.rand(3, 3)\n",
    "print(arr_random)\n"
   ]
  },
  {
   "cell_type": "markdown",
   "id": "02c7d85c",
   "metadata": {},
   "source": [
    "## **3. Exploration et analyse des tableaux NumPy**"
   ]
  },
  {
   "cell_type": "code",
   "execution_count": 5,
   "id": "49441e3c",
   "metadata": {},
   "outputs": [
    {
     "name": "stdout",
     "output_type": "stream",
     "text": [
      "Shape: (2, 3)\n",
      "Taille: 6\n",
      "Type de données: int64\n",
      "Premier élément: 1\n",
      "Dernière ligne du tableau 2D: [4 5 6]\n",
      "[[2 3]\n",
      " [5 6]]\n"
     ]
    }
   ],
   "source": [
    "\n",
    "# Forme et dimensions\n",
    "print(\"Shape:\", arr2.shape)  # Nombre de lignes et colonnes\n",
    "print(\"Taille:\", arr2.size)  # Nombre total d'éléments\n",
    "print(\"Type de données:\", arr2.dtype)  # Type des éléments\n",
    "\n",
    "# Indexation et slicing\n",
    "print(\"Premier élément:\", arr1[0])\n",
    "print(\"Dernière ligne du tableau 2D:\", arr2[-1])\n",
    "\n",
    "# Extraction d'une sous-matrice\n",
    "sub_matrix = arr2[:, 1:]  # Toutes les lignes, colonnes 1 et suivantes\n",
    "print(sub_matrix)\n"
   ]
  },
  {
   "cell_type": "markdown",
   "id": "538b2df8",
   "metadata": {},
   "source": [
    "## **4. Opérations mathématiques avec NumPy**"
   ]
  },
  {
   "cell_type": "code",
   "execution_count": 7,
   "id": "6d4290af",
   "metadata": {},
   "outputs": [
    {
     "name": "stdout",
     "output_type": "stream",
     "text": [
      "Addition: [20 30 40 50]\n",
      "Multiplication: [20 40 60 80]\n",
      "Exponentielle: [2.20264658e+04 4.85165195e+08 1.06864746e+13 2.35385267e+17]\n",
      "Racine carrée: [3.16227766 4.47213595 5.47722558 6.32455532]\n",
      "Addition entre tableaux: [5 7 9]\n",
      "Multiplication élément par élément: [ 4 10 18]\n",
      "Produit matriciel: [[19 22]\n",
      " [43 50]]\n"
     ]
    }
   ],
   "source": [
    "\n",
    "# Opérations élémentaires\n",
    "arr = np.array([10, 20, 30, 40])\n",
    "print(\"Addition:\", arr + 10)\n",
    "print(\"Multiplication:\", arr * 2)\n",
    "print(\"Exponentielle:\", np.exp(arr))\n",
    "print(\"Racine carrée:\", np.sqrt(arr))\n",
    "\n",
    "# Opérations entre tableaux\n",
    "arr_a = np.array([1, 2, 3])\n",
    "arr_b = np.array([4, 5, 6])\n",
    "print(\"Addition entre tableaux:\", arr_a + arr_b)\n",
    "print(\"Multiplication élément par élément:\", arr_a * arr_b)\n",
    "\n",
    "# Produit matriciel\n",
    "mat1 = np.array([[1, 2], [3, 4]])\n",
    "mat2 = np.array([[5, 6], [7, 8]])\n",
    "prod = np.dot(mat1, mat2)\n",
    "print(\"Produit matriciel:\", prod)\n"
   ]
  },
  {
   "cell_type": "markdown",
   "id": "54335275",
   "metadata": {},
   "source": [
    "## **5. Manipulation des tableaux**"
   ]
  },
  {
   "cell_type": "code",
   "execution_count": 8,
   "id": "1160b427",
   "metadata": {},
   "outputs": [
    {
     "name": "stdout",
     "output_type": "stream",
     "text": [
      "Tableau reshaped: [[1 2 3]\n",
      " [4 5 6]\n",
      " [7 8 9]]\n",
      "Transposé: [[1 4 7]\n",
      " [2 5 8]\n",
      " [3 6 9]]\n",
      "Concaténation verticale: [[ 1  2  3]\n",
      " [ 4  5  6]\n",
      " [ 7  8  9]\n",
      " [10 20 30]]\n",
      "Concaténation horizontale: [[ 1  2  3 10]\n",
      " [ 4  5  6 20]\n",
      " [ 7  8  9 30]]\n"
     ]
    }
   ],
   "source": [
    "\n",
    "# Changement de forme (reshape)\n",
    "arr_reshaped = np.arange(1, 10).reshape(3, 3)\n",
    "print(\"Tableau reshaped:\" , arr_reshaped)\n",
    "\n",
    "# Transposition\n",
    "print(\"Transposé:\", arr_reshaped.T)\n",
    "\n",
    "# Concatenation\n",
    "arr3 = np.array([[10, 20, 30]])\n",
    "concat_verticale = np.vstack((arr_reshaped, arr3))\n",
    "print(\"Concaténation verticale:\", concat_verticale)\n",
    "\n",
    "concat_horizontale = np.hstack((arr_reshaped, arr3.T))\n",
    "print(\"Concaténation horizontale:\", concat_horizontale)\n"
   ]
  },
  {
   "cell_type": "markdown",
   "id": "60ec4079",
   "metadata": {},
   "source": [
    "## **6. Statistiques avec NumPy**"
   ]
  },
  {
   "cell_type": "code",
   "execution_count": 9,
   "id": "adbb2aba",
   "metadata": {},
   "outputs": [
    {
     "name": "stdout",
     "output_type": "stream",
     "text": [
      "Moyenne: 5.0\n",
      "Médiane: 5.0\n",
      "Somme: 45\n",
      "Écart-type: 2.581988897471611\n",
      "Valeur max: 9\n",
      "Valeur min: 1\n",
      "Somme par colonnes: [12 15 18]\n",
      "Somme par lignes: [ 6 15 24]\n"
     ]
    }
   ],
   "source": [
    "\n",
    "arr_stats = np.array([[1, 2, 3], [4, 5, 6], [7, 8, 9]])\n",
    "print(\"Moyenne:\", np.mean(arr_stats))\n",
    "print(\"Médiane:\", np.median(arr_stats))\n",
    "print(\"Somme:\", np.sum(arr_stats))\n",
    "print(\"Écart-type:\", np.std(arr_stats))\n",
    "print(\"Valeur max:\", np.max(arr_stats))\n",
    "print(\"Valeur min:\", np.min(arr_stats))\n",
    "\n",
    "# Statistiques sur un axe spécifique\n",
    "print(\"Somme par colonnes:\", np.sum(arr_stats, axis=0))\n",
    "print(\"Somme par lignes:\", np.sum(arr_stats, axis=1))\n"
   ]
  },
  {
   "cell_type": "markdown",
   "id": "51292b47",
   "metadata": {},
   "source": [
    "## **7. Gestion des valeurs manquantes et infinités**"
   ]
  },
  {
   "cell_type": "code",
   "execution_count": 10,
   "id": "21beef74",
   "metadata": {},
   "outputs": [
    {
     "name": "stdout",
     "output_type": "stream",
     "text": [
      "Nombre de NaN: 2\n",
      "Après remplacement des NaN: [1. 2. 0. 4. 0. 6.]\n",
      "Après gestion des infinis: [    1.     2.  1000.     4. -1000.     6.]\n"
     ]
    }
   ],
   "source": [
    "\n",
    "arr_nan = np.array([1, 2, np.nan, 4, np.nan, 6])\n",
    "print(\"Nombre de NaN:\", np.isnan(arr_nan).sum())\n",
    "\n",
    "# Remplacement des NaN\n",
    "arr_nan[np.isnan(arr_nan)] = 0\n",
    "print(\"Après remplacement des NaN:\", arr_nan)\n",
    "\n",
    "# Gestion des infinis\n",
    "arr_inf = np.array([1, 2, np.inf, 4, -np.inf, 6])\n",
    "arr_inf[arr_inf == np.inf] = 1000  # Remplacement des infinis\n",
    "arr_inf[arr_inf == -np.inf] = -1000\n",
    "print(\"Après gestion des infinis:\", arr_inf)\n"
   ]
  },
  {
   "cell_type": "markdown",
   "id": "1b6b0a21",
   "metadata": {},
   "source": [
    "## **8. Sauvegarde et chargement de données**"
   ]
  },
  {
   "cell_type": "code",
   "execution_count": 11,
   "id": "68951f42",
   "metadata": {},
   "outputs": [
    {
     "name": "stdout",
     "output_type": "stream",
     "text": [
      "Données chargées: [[1 2 3]\n",
      " [4 5 6]\n",
      " [7 8 9]]\n",
      "Données chargées depuis fichier texte: [[1. 2. 3.]\n",
      " [4. 5. 6.]\n",
      " [7. 8. 9.]]\n"
     ]
    }
   ],
   "source": [
    "\n",
    "# Sauvegarde en format NumPy\n",
    "np.save(\"data.npy\", arr_stats)\n",
    "\n",
    "# Chargement\n",
    "arr_loaded = np.load(\"data.npy\")\n",
    "print(\"Données chargées:\", arr_loaded)\n",
    "\n",
    "# Sauvegarde en format texte\n",
    "np.savetxt(\"data.txt\", arr_stats, delimiter=\",\")\n",
    "arr_loaded_txt = np.loadtxt(\"data.txt\", delimiter=\",\")\n",
    "print(\"Données chargées depuis fichier texte:\", arr_loaded_txt)\n"
   ]
  },
  {
   "cell_type": "markdown",
   "id": "4de2577e",
   "metadata": {},
   "source": [
    "`NumPy` est un outil essentiel pour manipuler des données numériques en Python.\n",
    "Essayez de modifier les cellules pour tester d'autres transformations ! 🚀"
   ]
  }
 ],
 "metadata": {
  "kernelspec": {
   "display_name": "base",
   "language": "python",
   "name": "python3"
  },
  "language_info": {
   "codemirror_mode": {
    "name": "ipython",
    "version": 3
   },
   "file_extension": ".py",
   "mimetype": "text/x-python",
   "name": "python",
   "nbconvert_exporter": "python",
   "pygments_lexer": "ipython3",
   "version": "3.12.7"
  }
 },
 "nbformat": 4,
 "nbformat_minor": 5
}
