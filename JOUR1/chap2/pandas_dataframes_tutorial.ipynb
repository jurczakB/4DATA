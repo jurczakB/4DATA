{
 "cells": [
  {
   "cell_type": "markdown",
   "id": "f6aa45c2",
   "metadata": {},
   "source": [
    "# **Manipulation des Données avec pandas et DataFrames**\n",
    "Ce notebook est une mini formation sur `pandas`, illustrée avec des exemples pratiques.\n",
    "Ne pas hésiter à modifier, créer, transformer, tester des choses... Il n'y a rien de mieux pour apprendre :)\n"
   ]
  },
  {
   "cell_type": "markdown",
   "id": "bddef441",
   "metadata": {},
   "source": [
    "## **1. Installation et importation**"
   ]
  },
  {
   "cell_type": "code",
   "execution_count": 1,
   "id": "bbd5a7dd",
   "metadata": {},
   "outputs": [
    {
     "name": "stdout",
     "output_type": "stream",
     "text": [
      "Requirement already satisfied: pandas in /home/benjamin-jurczak/anaconda3/lib/python3.12/site-packages (2.2.2)\n",
      "Requirement already satisfied: numpy>=1.26.0 in /home/benjamin-jurczak/anaconda3/lib/python3.12/site-packages (from pandas) (1.26.4)\n",
      "Requirement already satisfied: python-dateutil>=2.8.2 in /home/benjamin-jurczak/anaconda3/lib/python3.12/site-packages (from pandas) (2.9.0.post0)\n",
      "Requirement already satisfied: pytz>=2020.1 in /home/benjamin-jurczak/anaconda3/lib/python3.12/site-packages (from pandas) (2024.1)\n",
      "Requirement already satisfied: tzdata>=2022.7 in /home/benjamin-jurczak/anaconda3/lib/python3.12/site-packages (from pandas) (2023.3)\n",
      "Requirement already satisfied: six>=1.5 in /home/benjamin-jurczak/anaconda3/lib/python3.12/site-packages (from python-dateutil>=2.8.2->pandas) (1.16.0)\n",
      "Note: you may need to restart the kernel to use updated packages.\n"
     ]
    }
   ],
   "source": [
    "%pip install pandas"
   ]
  },
  {
   "cell_type": "code",
   "execution_count": 2,
   "id": "75dd1662",
   "metadata": {},
   "outputs": [],
   "source": [
    "import pandas as pd\n",
    "import numpy as np"
   ]
  },
  {
   "cell_type": "markdown",
   "id": "82ff164e",
   "metadata": {},
   "source": [
    "## **2. Création et Lecture des DataFrames**"
   ]
  },
  {
   "cell_type": "markdown",
   "id": "41b0ada1",
   "metadata": {},
   "source": [
    "### **2.1 Création d'un DataFrame à partir d'un dictionnaire**"
   ]
  },
  {
   "cell_type": "code",
   "execution_count": 3,
   "id": "a246fddd",
   "metadata": {},
   "outputs": [
    {
     "data": {
      "text/html": [
       "<div>\n",
       "<style scoped>\n",
       "    .dataframe tbody tr th:only-of-type {\n",
       "        vertical-align: middle;\n",
       "    }\n",
       "\n",
       "    .dataframe tbody tr th {\n",
       "        vertical-align: top;\n",
       "    }\n",
       "\n",
       "    .dataframe thead th {\n",
       "        text-align: right;\n",
       "    }\n",
       "</style>\n",
       "<table border=\"1\" class=\"dataframe\">\n",
       "  <thead>\n",
       "    <tr style=\"text-align: right;\">\n",
       "      <th></th>\n",
       "      <th>nom</th>\n",
       "      <th>age</th>\n",
       "      <th>ville</th>\n",
       "    </tr>\n",
       "  </thead>\n",
       "  <tbody>\n",
       "    <tr>\n",
       "      <th>0</th>\n",
       "      <td>Alice</td>\n",
       "      <td>25</td>\n",
       "      <td>Paris</td>\n",
       "    </tr>\n",
       "    <tr>\n",
       "      <th>1</th>\n",
       "      <td>Bob</td>\n",
       "      <td>30</td>\n",
       "      <td>Lyon</td>\n",
       "    </tr>\n",
       "    <tr>\n",
       "      <th>2</th>\n",
       "      <td>Charlie</td>\n",
       "      <td>35</td>\n",
       "      <td>Marseille</td>\n",
       "    </tr>\n",
       "  </tbody>\n",
       "</table>\n",
       "</div>"
      ],
      "text/plain": [
       "       nom  age      ville\n",
       "0    Alice   25      Paris\n",
       "1      Bob   30       Lyon\n",
       "2  Charlie   35  Marseille"
      ]
     },
     "execution_count": 3,
     "metadata": {},
     "output_type": "execute_result"
    }
   ],
   "source": [
    "\n",
    "data = {\n",
    "    \"nom\": [\"Alice\", \"Bob\", \"Charlie\"],\n",
    "    \"age\": [25, 30, 35],\n",
    "    \"ville\": [\"Paris\", \"Lyon\", \"Marseille\"]\n",
    "}\n",
    "df = pd.DataFrame(data)\n",
    "df\n"
   ]
  },
  {
   "cell_type": "markdown",
   "id": "31677c7e",
   "metadata": {},
   "source": [
    "### **2.2 Lecture de fichiers dans pandas**"
   ]
  },
  {
   "cell_type": "code",
   "execution_count": 4,
   "id": "343e910f",
   "metadata": {},
   "outputs": [],
   "source": [
    "\n",
    "# Lecture d'un fichier CSV (Remplacez 'data.csv' par un fichier réel)\n",
    "# df = pd.read_csv(\"data.csv\")\n",
    "\n",
    "# Lecture d'un fichier JSON\n",
    "# df = pd.read_json(\"data.json\")\n",
    "\n",
    "# Lecture d'un fichier Excel\n",
    "# df = pd.read_excel(\"data.xlsx\", sheet_name=\"Sheet1\")\n",
    "\n",
    "# Lecture d'un fichier Parquet\n",
    "# df = pd.read_parquet(\"data.parquet\")\n"
   ]
  },
  {
   "cell_type": "markdown",
   "id": "e7620ed1",
   "metadata": {},
   "source": [
    "## **3. Exploration et Analyse des DataFrames**"
   ]
  },
  {
   "cell_type": "code",
   "execution_count": 5,
   "id": "85dbffa9",
   "metadata": {},
   "outputs": [
    {
     "name": "stdout",
     "output_type": "stream",
     "text": [
      "<class 'pandas.core.frame.DataFrame'>\n",
      "RangeIndex: 3 entries, 0 to 2\n",
      "Data columns (total 3 columns):\n",
      " #   Column  Non-Null Count  Dtype \n",
      "---  ------  --------------  ----- \n",
      " 0   nom     3 non-null      object\n",
      " 1   age     3 non-null      int64 \n",
      " 2   ville   3 non-null      object\n",
      "dtypes: int64(1), object(2)\n",
      "memory usage: 204.0+ bytes\n"
     ]
    },
    {
     "data": {
      "text/plain": [
       "Index(['nom', 'age', 'ville'], dtype='object')"
      ]
     },
     "execution_count": 5,
     "metadata": {},
     "output_type": "execute_result"
    }
   ],
   "source": [
    "\n",
    "df.info()  # Affiche les types de données et les valeurs nulles\n",
    "df.describe()  # Statistiques sur les colonnes numériques\n",
    "df.head()  # Affiche les premières lignes\n",
    "df.columns  # Liste des colonnes\n"
   ]
  },
  {
   "cell_type": "markdown",
   "id": "644424ad",
   "metadata": {},
   "source": [
    "### **3.2 Sélection et Extraction de Données**"
   ]
  },
  {
   "cell_type": "code",
   "execution_count": 6,
   "id": "8f4d732d",
   "metadata": {},
   "outputs": [
    {
     "data": {
      "text/plain": [
       "nom       Bob\n",
       "age        30\n",
       "ville    Lyon\n",
       "Name: 1, dtype: object"
      ]
     },
     "execution_count": 6,
     "metadata": {},
     "output_type": "execute_result"
    }
   ],
   "source": [
    "\n",
    "# Sélection d'une colonne\n",
    "df[\"nom\"]\n",
    "\n",
    "# Sélection de plusieurs colonnes\n",
    "df[[\"nom\", \"ville\"]]\n",
    "\n",
    "# Sélection d'une ligne avec .loc et .iloc\n",
    "df.loc[1]  # Par index\n",
    "df.iloc[1]  # Par position\n"
   ]
  },
  {
   "cell_type": "markdown",
   "id": "0dd8a6a8",
   "metadata": {},
   "source": [
    "## **4. Manipulation et Transformation des Données**"
   ]
  },
  {
   "cell_type": "code",
   "execution_count": 7,
   "id": "ed9b38e7",
   "metadata": {},
   "outputs": [],
   "source": [
    "\n",
    "# Ajout d'une colonne\n",
    "df[\"salaire\"] = [3000, 3500, 4000]\n",
    "\n",
    "# Suppression d'une colonne\n",
    "df.drop(columns=[\"salaire\"], inplace=True)\n",
    "\n",
    "# Remplacement des valeurs nulles\n",
    "df.fillna(0, inplace=True)\n",
    "\n",
    "# Suppression des doublons\n",
    "df.drop_duplicates(inplace=True)\n"
   ]
  },
  {
   "cell_type": "markdown",
   "id": "96f7267c",
   "metadata": {},
   "source": [
    "### **5.1 GroupBy et Agrégations**"
   ]
  },
  {
   "cell_type": "code",
   "execution_count": 8,
   "id": "eb88b2b9",
   "metadata": {},
   "outputs": [
    {
     "data": {
      "text/html": [
       "<div>\n",
       "<style scoped>\n",
       "    .dataframe tbody tr th:only-of-type {\n",
       "        vertical-align: middle;\n",
       "    }\n",
       "\n",
       "    .dataframe tbody tr th {\n",
       "        vertical-align: top;\n",
       "    }\n",
       "\n",
       "    .dataframe thead tr th {\n",
       "        text-align: left;\n",
       "    }\n",
       "\n",
       "    .dataframe thead tr:last-of-type th {\n",
       "        text-align: right;\n",
       "    }\n",
       "</style>\n",
       "<table border=\"1\" class=\"dataframe\">\n",
       "  <thead>\n",
       "    <tr>\n",
       "      <th></th>\n",
       "      <th colspan=\"3\" halign=\"left\">age</th>\n",
       "    </tr>\n",
       "    <tr>\n",
       "      <th></th>\n",
       "      <th>mean</th>\n",
       "      <th>min</th>\n",
       "      <th>max</th>\n",
       "    </tr>\n",
       "    <tr>\n",
       "      <th>ville</th>\n",
       "      <th></th>\n",
       "      <th></th>\n",
       "      <th></th>\n",
       "    </tr>\n",
       "  </thead>\n",
       "  <tbody>\n",
       "    <tr>\n",
       "      <th>Lyon</th>\n",
       "      <td>30.0</td>\n",
       "      <td>30</td>\n",
       "      <td>30</td>\n",
       "    </tr>\n",
       "    <tr>\n",
       "      <th>Marseille</th>\n",
       "      <td>35.0</td>\n",
       "      <td>35</td>\n",
       "      <td>35</td>\n",
       "    </tr>\n",
       "    <tr>\n",
       "      <th>Paris</th>\n",
       "      <td>25.0</td>\n",
       "      <td>25</td>\n",
       "      <td>25</td>\n",
       "    </tr>\n",
       "  </tbody>\n",
       "</table>\n",
       "</div>"
      ],
      "text/plain": [
       "            age        \n",
       "           mean min max\n",
       "ville                  \n",
       "Lyon       30.0  30  30\n",
       "Marseille  35.0  35  35\n",
       "Paris      25.0  25  25"
      ]
     },
     "execution_count": 8,
     "metadata": {},
     "output_type": "execute_result"
    }
   ],
   "source": [
    "\n",
    "# Moyenne d'une colonne par catégorie\n",
    "df.groupby(\"ville\")[\"age\"].mean()\n",
    "\n",
    "# Agrégations multiples\n",
    "df.groupby(\"ville\").agg({\"age\": [\"mean\", \"min\", \"max\"]})\n"
   ]
  },
  {
   "cell_type": "markdown",
   "id": "c9d21c4a",
   "metadata": {},
   "source": [
    "### **5.2 Fusion et Jointure de DataFrames**"
   ]
  },
  {
   "cell_type": "code",
   "execution_count": 9,
   "id": "52e37a60",
   "metadata": {},
   "outputs": [
    {
     "data": {
      "text/html": [
       "<div>\n",
       "<style scoped>\n",
       "    .dataframe tbody tr th:only-of-type {\n",
       "        vertical-align: middle;\n",
       "    }\n",
       "\n",
       "    .dataframe tbody tr th {\n",
       "        vertical-align: top;\n",
       "    }\n",
       "\n",
       "    .dataframe thead th {\n",
       "        text-align: right;\n",
       "    }\n",
       "</style>\n",
       "<table border=\"1\" class=\"dataframe\">\n",
       "  <thead>\n",
       "    <tr style=\"text-align: right;\">\n",
       "      <th></th>\n",
       "      <th>id</th>\n",
       "      <th>nom</th>\n",
       "      <th>salaire</th>\n",
       "    </tr>\n",
       "  </thead>\n",
       "  <tbody>\n",
       "    <tr>\n",
       "      <th>0</th>\n",
       "      <td>1</td>\n",
       "      <td>Alice</td>\n",
       "      <td>3000.0</td>\n",
       "    </tr>\n",
       "    <tr>\n",
       "      <th>1</th>\n",
       "      <td>2</td>\n",
       "      <td>Bob</td>\n",
       "      <td>3500.0</td>\n",
       "    </tr>\n",
       "    <tr>\n",
       "      <th>2</th>\n",
       "      <td>3</td>\n",
       "      <td>Charlie</td>\n",
       "      <td>NaN</td>\n",
       "    </tr>\n",
       "  </tbody>\n",
       "</table>\n",
       "</div>"
      ],
      "text/plain": [
       "   id      nom  salaire\n",
       "0   1    Alice   3000.0\n",
       "1   2      Bob   3500.0\n",
       "2   3  Charlie      NaN"
      ]
     },
     "execution_count": 9,
     "metadata": {},
     "output_type": "execute_result"
    }
   ],
   "source": [
    "\n",
    "df1 = pd.DataFrame({\"id\": [1, 2, 3], \"nom\": [\"Alice\", \"Bob\", \"Charlie\"]})\n",
    "df2 = pd.DataFrame({\"id\": [1, 2, 4], \"salaire\": [3000, 3500, 4000]})\n",
    "\n",
    "df_merged = pd.merge(df1, df2, on=\"id\", how=\"left\")\n",
    "df_merged\n"
   ]
  },
  {
   "cell_type": "markdown",
   "id": "1257d204",
   "metadata": {},
   "source": [
    "## **6. Optimisation et Bonnes Pratiques**"
   ]
  },
  {
   "cell_type": "code",
   "execution_count": 10,
   "id": "54ec8581",
   "metadata": {},
   "outputs": [],
   "source": [
    "\n",
    "# Réduction de la mémoire utilisée\n",
    "df[\"age\"] = df[\"age\"].astype(\"int32\")\n",
    "df[\"nom\"] = df[\"nom\"].astype(\"category\")\n",
    "\n",
    "# Chargement de gros fichiers en morceaux\n",
    "chunk_size = 100000  # Lire 100 000 lignes à la fois\n",
    "# for chunk in pd.read_csv(\"big_file.csv\", chunksize=chunk_size):\n",
    "#     process(chunk)\n"
   ]
  },
  {
   "cell_type": "markdown",
   "id": "bedbc108",
   "metadata": {},
   "source": [
    "## **7. Sauvegarde des Données**"
   ]
  },
  {
   "cell_type": "code",
   "execution_count": 11,
   "id": "6f5ac705",
   "metadata": {},
   "outputs": [],
   "source": [
    "\n",
    "# Export en CSV\n",
    "df.to_csv(\"output.csv\", index=False)\n",
    "\n",
    "# Export en JSON\n",
    "df.to_json(\"output.json\", orient=\"records\", lines=True)\n",
    "\n",
    "# Export en Excel\n",
    "df.to_excel(\"output.xlsx\", index=False)\n"
   ]
  },
  {
   "cell_type": "markdown",
   "id": "c10a057d",
   "metadata": {},
   "source": [
    "`pandas` est un outil puissant pour manipuler des données en Python.\n",
    "Essayez de modifier les cellules pour tester d'autres transformations ! 🚀"
   ]
  }
 ],
 "metadata": {
  "kernelspec": {
   "display_name": "base",
   "language": "python",
   "name": "python3"
  },
  "language_info": {
   "codemirror_mode": {
    "name": "ipython",
    "version": 3
   },
   "file_extension": ".py",
   "mimetype": "text/x-python",
   "name": "python",
   "nbconvert_exporter": "python",
   "pygments_lexer": "ipython3",
   "version": "3.12.7"
  }
 },
 "nbformat": 4,
 "nbformat_minor": 5
}
