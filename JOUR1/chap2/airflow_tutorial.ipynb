{
 "cells": [
  {
   "cell_type": "markdown",
   "id": "770c0203",
   "metadata": {},
   "source": [
    "# **Introduction à Apache Airflow**\n",
    "Ce notebook est une mini formation sur **Apache Airflow**.\n",
    "\n",
    "**Objectifs :**\n",
    "- Comprendre le fonctionnement de **DAGs** et des **tasks**.\n",
    "- Créer et exécuter un workflow Airflow.\n",
    "- Manipuler les **Operators**, **Hooks** et **XComs**.\n"
   ]
  },
  {
   "cell_type": "markdown",
   "id": "07ce3bc3",
   "metadata": {},
   "source": [
    "## **1. Installation d'Apache Airflow**"
   ]
  },
  {
   "cell_type": "code",
   "execution_count": 1,
   "id": "115cf2c4",
   "metadata": {},
   "outputs": [
    {
     "name": "stdout",
     "output_type": "stream",
     "text": [
      "Collecting apache-airflow\n",
      "  Downloading apache_airflow-2.10.4-py3-none-any.whl.metadata (43 kB)\n",
      "Requirement already satisfied: alembic<2.0,>=1.13.1 in /home/benjamin-jurczak/anaconda3/lib/python3.12/site-packages (from apache-airflow) (1.13.1)\n",
      "Collecting argcomplete>=1.10 (from apache-airflow)\n",
      "  Downloading argcomplete-3.5.3-py3-none-any.whl.metadata (16 kB)\n",
      "Collecting asgiref>=2.3.0 (from apache-airflow)\n",
      "  Downloading asgiref-3.8.1-py3-none-any.whl.metadata (9.3 kB)\n",
      "Requirement already satisfied: attrs>=22.1.0 in /home/benjamin-jurczak/anaconda3/lib/python3.12/site-packages (from apache-airflow) (24.3.0)\n",
      "Requirement already satisfied: blinker>=1.6.2 in /home/benjamin-jurczak/anaconda3/lib/python3.12/site-packages (from apache-airflow) (1.6.2)\n",
      "Collecting colorlog>=6.8.2 (from apache-airflow)\n",
      "  Downloading colorlog-6.9.0-py3-none-any.whl.metadata (10 kB)\n",
      "Collecting configupdater>=3.1.1 (from apache-airflow)\n",
      "  Downloading ConfigUpdater-3.2-py2.py3-none-any.whl.metadata (10 kB)\n",
      "Collecting connexion<3.0,>=2.14.2 (from connexion[flask]<3.0,>=2.14.2->apache-airflow)\n",
      "  Downloading connexion-2.14.2-py2.py3-none-any.whl.metadata (28 kB)\n",
      "Collecting cron-descriptor>=1.2.24 (from apache-airflow)\n",
      "  Downloading cron_descriptor-1.4.5-py3-none-any.whl.metadata (5.7 kB)\n",
      "Collecting croniter>=2.0.2 (from apache-airflow)\n",
      "  Using cached croniter-6.0.0-py2.py3-none-any.whl.metadata (32 kB)\n",
      "Requirement already satisfied: cryptography>=41.0.0 in /home/benjamin-jurczak/anaconda3/lib/python3.12/site-packages (from apache-airflow) (43.0.0)\n",
      "Requirement already satisfied: deprecated>=1.2.13 in /home/benjamin-jurczak/anaconda3/lib/python3.12/site-packages (from apache-airflow) (1.2.15)\n",
      "Requirement already satisfied: dill>=0.2.2 in /home/benjamin-jurczak/anaconda3/lib/python3.12/site-packages (from apache-airflow) (0.3.8)\n",
      "Collecting flask-caching>=2.0.0 (from apache-airflow)\n",
      "  Downloading Flask_Caching-2.3.0-py3-none-any.whl.metadata (2.2 kB)\n",
      "Collecting flask-session<0.6,>=0.4.0 (from apache-airflow)\n",
      "  Downloading flask_session-0.5.0-py3-none-any.whl.metadata (1.4 kB)\n",
      "Collecting flask-wtf>=1.1.0 (from apache-airflow)\n",
      "  Downloading flask_wtf-1.2.2-py3-none-any.whl.metadata (3.4 kB)\n",
      "Collecting flask<2.3,>=2.2.1 (from apache-airflow)\n",
      "  Downloading Flask-2.2.5-py3-none-any.whl.metadata (3.9 kB)\n",
      "Requirement already satisfied: fsspec>=2023.10.0 in /home/benjamin-jurczak/anaconda3/lib/python3.12/site-packages (from apache-airflow) (2024.6.1)\n",
      "Collecting google-re2>=1.1 (from apache-airflow)\n",
      "  Downloading google_re2-1.1.20240702-1-cp312-cp312-manylinux_2_24_x86_64.manylinux_2_28_x86_64.whl.metadata (2.2 kB)\n",
      "Collecting gunicorn>=20.1.0 (from apache-airflow)\n",
      "  Downloading gunicorn-23.0.0-py3-none-any.whl.metadata (4.4 kB)\n",
      "Requirement already satisfied: httpx>=0.25.0 in /home/benjamin-jurczak/anaconda3/lib/python3.12/site-packages (from apache-airflow) (0.27.0)\n",
      "Requirement already satisfied: itsdangerous>=2.0 in /home/benjamin-jurczak/anaconda3/lib/python3.12/site-packages (from apache-airflow) (2.2.0)\n",
      "Requirement already satisfied: jinja2>=3.0.0 in /home/benjamin-jurczak/anaconda3/lib/python3.12/site-packages (from apache-airflow) (3.1.4)\n",
      "Requirement already satisfied: jsonschema>=4.18.0 in /home/benjamin-jurczak/anaconda3/lib/python3.12/site-packages (from apache-airflow) (4.23.0)\n",
      "Requirement already satisfied: lazy-object-proxy>=1.2.0 in /home/benjamin-jurczak/anaconda3/lib/python3.12/site-packages (from apache-airflow) (1.10.0)\n",
      "Requirement already satisfied: linkify-it-py>=2.0.0 in /home/benjamin-jurczak/anaconda3/lib/python3.12/site-packages (from apache-airflow) (2.0.0)\n",
      "Collecting lockfile>=0.12.2 (from apache-airflow)\n",
      "  Downloading lockfile-0.12.2-py2.py3-none-any.whl.metadata (2.4 kB)\n",
      "Requirement already satisfied: markdown-it-py>=2.1.0 in /home/benjamin-jurczak/anaconda3/lib/python3.12/site-packages (from apache-airflow) (2.2.0)\n",
      "Requirement already satisfied: markupsafe>=1.1.1 in /home/benjamin-jurczak/anaconda3/lib/python3.12/site-packages (from apache-airflow) (2.1.3)\n",
      "Collecting marshmallow-oneofschema>=2.0.1 (from apache-airflow)\n",
      "  Downloading marshmallow_oneofschema-3.1.1-py3-none-any.whl.metadata (5.0 kB)\n",
      "Requirement already satisfied: mdit-py-plugins>=0.3.0 in /home/benjamin-jurczak/anaconda3/lib/python3.12/site-packages (from apache-airflow) (0.3.0)\n",
      "Collecting methodtools>=0.4.7 (from apache-airflow)\n",
      "  Downloading methodtools-0.4.7-py2.py3-none-any.whl.metadata (3.0 kB)\n",
      "Collecting opentelemetry-api>=1.24.0 (from apache-airflow)\n",
      "  Downloading opentelemetry_api-1.29.0-py3-none-any.whl.metadata (1.4 kB)\n",
      "Collecting opentelemetry-exporter-otlp>=1.24.0 (from apache-airflow)\n",
      "  Downloading opentelemetry_exporter_otlp-1.29.0-py3-none-any.whl.metadata (2.3 kB)\n",
      "Requirement already satisfied: packaging>=23.0 in /home/benjamin-jurczak/anaconda3/lib/python3.12/site-packages (from apache-airflow) (24.1)\n",
      "Requirement already satisfied: pathspec>=0.9.0 in /home/benjamin-jurczak/anaconda3/lib/python3.12/site-packages (from apache-airflow) (0.10.3)\n",
      "Collecting pendulum<4.0,>=3.0.0 (from apache-airflow)\n",
      "  Downloading pendulum-3.0.0-cp312-cp312-manylinux_2_17_x86_64.manylinux2014_x86_64.whl.metadata (6.9 kB)\n",
      "Requirement already satisfied: pluggy>=1.5.0 in /home/benjamin-jurczak/anaconda3/lib/python3.12/site-packages (from apache-airflow) (1.5.0)\n",
      "Requirement already satisfied: psutil>=5.8.0 in /home/benjamin-jurczak/anaconda3/lib/python3.12/site-packages (from apache-airflow) (5.9.0)\n",
      "Requirement already satisfied: pygments>=2.0.1 in /home/benjamin-jurczak/anaconda3/lib/python3.12/site-packages (from apache-airflow) (2.15.1)\n",
      "Requirement already satisfied: pyjwt>=2.0.0 in /home/benjamin-jurczak/anaconda3/lib/python3.12/site-packages (from apache-airflow) (2.8.0)\n",
      "Collecting python-daemon>=3.0.0 (from apache-airflow)\n",
      "  Downloading python_daemon-3.1.2-py3-none-any.whl.metadata (4.8 kB)\n",
      "Requirement already satisfied: python-dateutil>=2.7.0 in /home/benjamin-jurczak/anaconda3/lib/python3.12/site-packages (from apache-airflow) (2.9.0.post0)\n",
      "Collecting python-nvd3>=0.15.0 (from apache-airflow)\n",
      "  Downloading python-nvd3-0.16.0.tar.gz (34 kB)\n",
      "  Preparing metadata (setup.py) ... \u001b[?25ldone\n",
      "\u001b[?25hRequirement already satisfied: python-slugify>=5.0 in /home/benjamin-jurczak/anaconda3/lib/python3.12/site-packages (from apache-airflow) (5.0.2)\n",
      "Requirement already satisfied: requests<3,>=2.27.0 in /home/benjamin-jurczak/anaconda3/lib/python3.12/site-packages (from apache-airflow) (2.31.0)\n",
      "Requirement already satisfied: requests-toolbelt>=0.4.0 in /home/benjamin-jurczak/anaconda3/lib/python3.12/site-packages (from apache-airflow) (1.0.0)\n",
      "Requirement already satisfied: rfc3339-validator>=0.1.4 in /home/benjamin-jurczak/anaconda3/lib/python3.12/site-packages (from apache-airflow) (0.1.4)\n",
      "Collecting rich-argparse>=1.0.0 (from apache-airflow)\n",
      "  Downloading rich_argparse-1.6.0-py3-none-any.whl.metadata (14 kB)\n",
      "Requirement already satisfied: rich>=12.4.4 in /home/benjamin-jurczak/anaconda3/lib/python3.12/site-packages (from apache-airflow) (13.7.1)\n",
      "Collecting setproctitle>=1.3.3 (from apache-airflow)\n",
      "  Downloading setproctitle-1.3.4-cp312-cp312-manylinux_2_5_x86_64.manylinux1_x86_64.manylinux_2_17_x86_64.manylinux2014_x86_64.whl.metadata (10 kB)\n",
      "Collecting sqlalchemy<2.0,>=1.4.36 (from apache-airflow)\n",
      "  Downloading SQLAlchemy-1.4.54-cp312-cp312-manylinux_2_5_x86_64.manylinux1_x86_64.manylinux_2_17_x86_64.manylinux2014_x86_64.whl.metadata (10 kB)\n",
      "Collecting sqlalchemy-jsonfield>=1.0 (from apache-airflow)\n",
      "  Downloading SQLAlchemy_JSONField-1.0.2-py3-none-any.whl.metadata (5.2 kB)\n",
      "Requirement already satisfied: tabulate>=0.7.5 in /home/benjamin-jurczak/anaconda3/lib/python3.12/site-packages (from apache-airflow) (0.9.0)\n",
      "Requirement already satisfied: tenacity!=8.2.0,>=8.0.0 in /home/benjamin-jurczak/anaconda3/lib/python3.12/site-packages (from apache-airflow) (8.2.3)\n",
      "Collecting termcolor>=1.1.0 (from apache-airflow)\n",
      "  Downloading termcolor-2.5.0-py3-none-any.whl.metadata (6.1 kB)\n",
      "Requirement already satisfied: universal-pathlib!=0.2.4,>=0.2.2 in /home/benjamin-jurczak/anaconda3/lib/python3.12/site-packages (from apache-airflow) (0.2.6)\n",
      "Collecting werkzeug<3,>=2.0 (from apache-airflow)\n",
      "  Downloading werkzeug-2.3.8-py3-none-any.whl.metadata (4.1 kB)\n",
      "Collecting apache-airflow-providers-common-compat (from apache-airflow)\n",
      "  Downloading apache_airflow_providers_common_compat-1.3.0-py3-none-any.whl.metadata (6.1 kB)\n",
      "Collecting apache-airflow-providers-common-io (from apache-airflow)\n",
      "  Downloading apache_airflow_providers_common_io-1.5.0-py3-none-any.whl.metadata (6.1 kB)\n",
      "Collecting apache-airflow-providers-common-sql (from apache-airflow)\n",
      "  Downloading apache_airflow_providers_common_sql-1.21.0-py3-none-any.whl.metadata (6.2 kB)\n",
      "Collecting apache-airflow-providers-fab>=1.0.2 (from apache-airflow)\n",
      "  Downloading apache_airflow_providers_fab-1.5.2-py3-none-any.whl.metadata (6.6 kB)\n",
      "Collecting apache-airflow-providers-ftp (from apache-airflow)\n",
      "  Downloading apache_airflow_providers_ftp-3.12.0-py3-none-any.whl.metadata (6.0 kB)\n",
      "Collecting apache-airflow-providers-http (from apache-airflow)\n",
      "  Downloading apache_airflow_providers_http-5.0.0-py3-none-any.whl.metadata (4.9 kB)\n",
      "Collecting apache-airflow-providers-imap (from apache-airflow)\n",
      "  Downloading apache_airflow_providers_imap-3.8.0-py3-none-any.whl.metadata (4.6 kB)\n",
      "Collecting apache-airflow-providers-smtp (from apache-airflow)\n",
      "  Downloading apache_airflow_providers_smtp-1.9.0-py3-none-any.whl.metadata (4.6 kB)\n",
      "Collecting apache-airflow-providers-sqlite (from apache-airflow)\n",
      "  Downloading apache_airflow_providers_sqlite-4.0.0-py3-none-any.whl.metadata (5.9 kB)\n",
      "Requirement already satisfied: Mako in /home/benjamin-jurczak/anaconda3/lib/python3.12/site-packages (from alembic<2.0,>=1.13.1->apache-airflow) (1.3.8)\n",
      "Requirement already satisfied: typing-extensions>=4 in /home/benjamin-jurczak/anaconda3/lib/python3.12/site-packages (from alembic<2.0,>=1.13.1->apache-airflow) (4.12.2)\n",
      "Collecting flask-appbuilder==4.5.2 (from apache-airflow-providers-fab>=1.0.2->apache-airflow)\n",
      "  Downloading Flask_AppBuilder-4.5.2-py3-none-any.whl.metadata (8.9 kB)\n",
      "Collecting flask-login>=0.6.2 (from apache-airflow-providers-fab>=1.0.2->apache-airflow)\n",
      "  Downloading Flask_Login-0.6.3-py3-none-any.whl.metadata (5.8 kB)\n",
      "Requirement already satisfied: jmespath>=0.7.0 in /home/benjamin-jurczak/anaconda3/lib/python3.12/site-packages (from apache-airflow-providers-fab>=1.0.2->apache-airflow) (1.0.1)\n",
      "Collecting apispec<7,>=6.0.0 (from apispec[yaml]<7,>=6.0.0->flask-appbuilder==4.5.2->apache-airflow-providers-fab>=1.0.2->apache-airflow)\n",
      "  Downloading apispec-6.8.1-py3-none-any.whl.metadata (10 kB)\n",
      "Requirement already satisfied: colorama<1,>=0.3.9 in /home/benjamin-jurczak/anaconda3/lib/python3.12/site-packages (from flask-appbuilder==4.5.2->apache-airflow-providers-fab>=1.0.2->apache-airflow) (0.4.6)\n",
      "Requirement already satisfied: click<9,>=8 in /home/benjamin-jurczak/anaconda3/lib/python3.12/site-packages (from flask-appbuilder==4.5.2->apache-airflow-providers-fab>=1.0.2->apache-airflow) (8.1.7)\n",
      "Requirement already satisfied: email-validator>=1.0.5 in /home/benjamin-jurczak/anaconda3/lib/python3.12/site-packages (from flask-appbuilder==4.5.2->apache-airflow-providers-fab>=1.0.2->apache-airflow) (2.2.0)\n",
      "Collecting Flask-Babel<3,>=1 (from flask-appbuilder==4.5.2->apache-airflow-providers-fab>=1.0.2->apache-airflow)\n",
      "  Downloading Flask_Babel-2.0.0-py3-none-any.whl.metadata (2.1 kB)\n",
      "Collecting Flask-Limiter<4,>3 (from flask-appbuilder==4.5.2->apache-airflow-providers-fab>=1.0.2->apache-airflow)\n",
      "  Downloading Flask_Limiter-3.10.1-py3-none-any.whl.metadata (6.1 kB)\n",
      "Collecting Flask-SQLAlchemy<3,>=2.4 (from flask-appbuilder==4.5.2->apache-airflow-providers-fab>=1.0.2->apache-airflow)\n",
      "  Downloading Flask_SQLAlchemy-2.5.1-py2.py3-none-any.whl.metadata (3.1 kB)\n",
      "Collecting Flask-JWT-Extended<5.0.0,>=4.0.0 (from flask-appbuilder==4.5.2->apache-airflow-providers-fab>=1.0.2->apache-airflow)\n",
      "  Downloading Flask_JWT_Extended-4.7.1-py2.py3-none-any.whl.metadata (3.8 kB)\n",
      "Collecting marshmallow<4,>=3.18.0 (from flask-appbuilder==4.5.2->apache-airflow-providers-fab>=1.0.2->apache-airflow)\n",
      "  Downloading marshmallow-3.26.0-py3-none-any.whl.metadata (7.3 kB)\n",
      "Collecting marshmallow-sqlalchemy<0.29.0,>=0.22.0 (from flask-appbuilder==4.5.2->apache-airflow-providers-fab>=1.0.2->apache-airflow)\n",
      "  Downloading marshmallow_sqlalchemy-0.28.2-py2.py3-none-any.whl.metadata (6.8 kB)\n",
      "Collecting prison<1.0.0,>=0.2.1 (from flask-appbuilder==4.5.2->apache-airflow-providers-fab>=1.0.2->apache-airflow)\n",
      "  Downloading prison-0.2.1-py2.py3-none-any.whl.metadata (973 bytes)\n",
      "Collecting sqlalchemy-utils<1,>=0.32.21 (from flask-appbuilder==4.5.2->apache-airflow-providers-fab>=1.0.2->apache-airflow)\n",
      "  Downloading SQLAlchemy_Utils-0.41.2-py3-none-any.whl.metadata (4.2 kB)\n",
      "Collecting WTForms<4 (from flask-appbuilder==4.5.2->apache-airflow-providers-fab>=1.0.2->apache-airflow)\n",
      "  Downloading wtforms-3.2.1-py3-none-any.whl.metadata (5.3 kB)\n",
      "Collecting clickclick<21,>=1.2 (from connexion<3.0,>=2.14.2->connexion[flask]<3.0,>=2.14.2->apache-airflow)\n",
      "  Downloading clickclick-20.10.2-py2.py3-none-any.whl.metadata (7.6 kB)\n",
      "Requirement already satisfied: PyYAML<7,>=5.1 in /home/benjamin-jurczak/anaconda3/lib/python3.12/site-packages (from connexion<3.0,>=2.14.2->connexion[flask]<3.0,>=2.14.2->apache-airflow) (6.0.1)\n",
      "Requirement already satisfied: inflection<0.6,>=0.3.1 in /home/benjamin-jurczak/anaconda3/lib/python3.12/site-packages (from connexion<3.0,>=2.14.2->connexion[flask]<3.0,>=2.14.2->apache-airflow) (0.5.1)\n",
      "Collecting werkzeug<3,>=2.0 (from apache-airflow)\n",
      "  Downloading Werkzeug-2.2.3-py3-none-any.whl.metadata (4.4 kB)\n",
      "Requirement already satisfied: pytz>2021.1 in /home/benjamin-jurczak/anaconda3/lib/python3.12/site-packages (from croniter>=2.0.2->apache-airflow) (2024.1)\n",
      "Requirement already satisfied: cffi>=1.12 in /home/benjamin-jurczak/anaconda3/lib/python3.12/site-packages (from cryptography>=41.0.0->apache-airflow) (1.17.1)\n",
      "Requirement already satisfied: wrapt<2,>=1.10 in /home/benjamin-jurczak/anaconda3/lib/python3.12/site-packages (from deprecated>=1.2.13->apache-airflow) (1.14.1)\n",
      "Collecting cachelib<0.10.0,>=0.9.0 (from flask-caching>=2.0.0->apache-airflow)\n",
      "  Downloading cachelib-0.9.0-py3-none-any.whl.metadata (1.9 kB)\n",
      "Requirement already satisfied: anyio in /home/benjamin-jurczak/anaconda3/lib/python3.12/site-packages (from httpx>=0.25.0->apache-airflow) (4.2.0)\n",
      "Requirement already satisfied: certifi in /home/benjamin-jurczak/anaconda3/lib/python3.12/site-packages (from httpx>=0.25.0->apache-airflow) (2024.8.30)\n",
      "Requirement already satisfied: httpcore==1.* in /home/benjamin-jurczak/anaconda3/lib/python3.12/site-packages (from httpx>=0.25.0->apache-airflow) (1.0.2)\n",
      "Requirement already satisfied: idna in /home/benjamin-jurczak/anaconda3/lib/python3.12/site-packages (from httpx>=0.25.0->apache-airflow) (3.7)\n",
      "Requirement already satisfied: sniffio in /home/benjamin-jurczak/anaconda3/lib/python3.12/site-packages (from httpx>=0.25.0->apache-airflow) (1.3.0)\n",
      "Requirement already satisfied: h11<0.15,>=0.13 in /home/benjamin-jurczak/anaconda3/lib/python3.12/site-packages (from httpcore==1.*->httpx>=0.25.0->apache-airflow) (0.14.0)\n",
      "Requirement already satisfied: jsonschema-specifications>=2023.03.6 in /home/benjamin-jurczak/anaconda3/lib/python3.12/site-packages (from jsonschema>=4.18.0->apache-airflow) (2023.7.1)\n",
      "Requirement already satisfied: referencing>=0.28.4 in /home/benjamin-jurczak/anaconda3/lib/python3.12/site-packages (from jsonschema>=4.18.0->apache-airflow) (0.30.2)\n",
      "Requirement already satisfied: rpds-py>=0.7.1 in /home/benjamin-jurczak/anaconda3/lib/python3.12/site-packages (from jsonschema>=4.18.0->apache-airflow) (0.10.6)\n",
      "Requirement already satisfied: uc-micro-py in /home/benjamin-jurczak/anaconda3/lib/python3.12/site-packages (from linkify-it-py>=2.0.0->apache-airflow) (1.0.1)\n",
      "Requirement already satisfied: mdurl~=0.1 in /home/benjamin-jurczak/anaconda3/lib/python3.12/site-packages (from markdown-it-py>=2.1.0->apache-airflow) (0.1.0)\n",
      "Collecting wirerope>=0.4.7 (from methodtools>=0.4.7->apache-airflow)\n",
      "  Downloading wirerope-1.0.0-py2.py3-none-any.whl.metadata (3.3 kB)\n",
      "Requirement already satisfied: importlib-metadata<=8.5.0,>=6.0 in /home/benjamin-jurczak/anaconda3/lib/python3.12/site-packages (from opentelemetry-api>=1.24.0->apache-airflow) (6.11.0)\n",
      "Collecting opentelemetry-exporter-otlp-proto-grpc==1.29.0 (from opentelemetry-exporter-otlp>=1.24.0->apache-airflow)\n",
      "  Downloading opentelemetry_exporter_otlp_proto_grpc-1.29.0-py3-none-any.whl.metadata (2.2 kB)\n",
      "Collecting opentelemetry-exporter-otlp-proto-http==1.29.0 (from opentelemetry-exporter-otlp>=1.24.0->apache-airflow)\n",
      "  Downloading opentelemetry_exporter_otlp_proto_http-1.29.0-py3-none-any.whl.metadata (2.2 kB)\n",
      "Collecting googleapis-common-protos~=1.52 (from opentelemetry-exporter-otlp-proto-grpc==1.29.0->opentelemetry-exporter-otlp>=1.24.0->apache-airflow)\n",
      "  Downloading googleapis_common_protos-1.66.0-py2.py3-none-any.whl.metadata (1.5 kB)\n",
      "Requirement already satisfied: grpcio<2.0.0,>=1.63.2 in /home/benjamin-jurczak/anaconda3/lib/python3.12/site-packages (from opentelemetry-exporter-otlp-proto-grpc==1.29.0->opentelemetry-exporter-otlp>=1.24.0->apache-airflow) (1.70.0)\n",
      "Collecting opentelemetry-exporter-otlp-proto-common==1.29.0 (from opentelemetry-exporter-otlp-proto-grpc==1.29.0->opentelemetry-exporter-otlp>=1.24.0->apache-airflow)\n",
      "  Downloading opentelemetry_exporter_otlp_proto_common-1.29.0-py3-none-any.whl.metadata (1.8 kB)\n",
      "Collecting opentelemetry-proto==1.29.0 (from opentelemetry-exporter-otlp-proto-grpc==1.29.0->opentelemetry-exporter-otlp>=1.24.0->apache-airflow)\n",
      "  Downloading opentelemetry_proto-1.29.0-py3-none-any.whl.metadata (2.3 kB)\n",
      "Collecting opentelemetry-sdk~=1.29.0 (from opentelemetry-exporter-otlp-proto-grpc==1.29.0->opentelemetry-exporter-otlp>=1.24.0->apache-airflow)\n",
      "  Downloading opentelemetry_sdk-1.29.0-py3-none-any.whl.metadata (1.5 kB)\n",
      "Requirement already satisfied: protobuf<6.0,>=5.0 in /home/benjamin-jurczak/anaconda3/lib/python3.12/site-packages (from opentelemetry-proto==1.29.0->opentelemetry-exporter-otlp-proto-grpc==1.29.0->opentelemetry-exporter-otlp>=1.24.0->apache-airflow) (5.29.3)\n",
      "Requirement already satisfied: tzdata>=2020.1 in /home/benjamin-jurczak/anaconda3/lib/python3.12/site-packages (from pendulum<4.0,>=3.0.0->apache-airflow) (2023.3)\n",
      "Collecting time-machine>=2.6.0 (from pendulum<4.0,>=3.0.0->apache-airflow)\n",
      "  Downloading time_machine-2.16.0-cp312-cp312-manylinux_2_5_x86_64.manylinux1_x86_64.manylinux_2_17_x86_64.manylinux2014_x86_64.whl.metadata (21 kB)\n",
      "Requirement already satisfied: six>=1.5 in /home/benjamin-jurczak/anaconda3/lib/python3.12/site-packages (from python-dateutil>=2.7.0->apache-airflow) (1.16.0)\n",
      "Requirement already satisfied: text-unidecode>=1.3 in /home/benjamin-jurczak/anaconda3/lib/python3.12/site-packages (from python-slugify>=5.0->apache-airflow) (1.3)\n",
      "Requirement already satisfied: charset-normalizer<4,>=2 in /home/benjamin-jurczak/anaconda3/lib/python3.12/site-packages (from requests<3,>=2.27.0->apache-airflow) (3.3.2)\n",
      "Requirement already satisfied: urllib3<3,>=1.21.1 in /home/benjamin-jurczak/anaconda3/lib/python3.12/site-packages (from requests<3,>=2.27.0->apache-airflow) (2.2.3)\n",
      "Requirement already satisfied: greenlet!=0.4.17 in /home/benjamin-jurczak/anaconda3/lib/python3.12/site-packages (from sqlalchemy<2.0,>=1.4.36->apache-airflow) (3.0.1)\n",
      "Requirement already satisfied: more-itertools>=9.0.0 in /home/benjamin-jurczak/anaconda3/lib/python3.12/site-packages (from apache-airflow-providers-common-sql->apache-airflow) (10.3.0)\n",
      "Requirement already satisfied: sqlparse>=0.5.1 in /home/benjamin-jurczak/anaconda3/lib/python3.12/site-packages (from apache-airflow-providers-common-sql->apache-airflow) (0.5.3)\n",
      "Requirement already satisfied: aiohttp!=3.11.0,>=3.9.2 in /home/benjamin-jurczak/anaconda3/lib/python3.12/site-packages (from apache-airflow-providers-http->apache-airflow) (3.10.5)\n",
      "Collecting aiosqlite>=0.20.0 (from apache-airflow-providers-sqlite->apache-airflow)\n",
      "  Downloading aiosqlite-0.20.0-py3-none-any.whl.metadata (4.3 kB)\n",
      "Requirement already satisfied: aiohappyeyeballs>=2.3.0 in /home/benjamin-jurczak/anaconda3/lib/python3.12/site-packages (from aiohttp!=3.11.0,>=3.9.2->apache-airflow-providers-http->apache-airflow) (2.4.0)\n",
      "Requirement already satisfied: aiosignal>=1.1.2 in /home/benjamin-jurczak/anaconda3/lib/python3.12/site-packages (from aiohttp!=3.11.0,>=3.9.2->apache-airflow-providers-http->apache-airflow) (1.2.0)\n",
      "Requirement already satisfied: frozenlist>=1.1.1 in /home/benjamin-jurczak/anaconda3/lib/python3.12/site-packages (from aiohttp!=3.11.0,>=3.9.2->apache-airflow-providers-http->apache-airflow) (1.4.0)\n",
      "Requirement already satisfied: multidict<7.0,>=4.5 in /home/benjamin-jurczak/anaconda3/lib/python3.12/site-packages (from aiohttp!=3.11.0,>=3.9.2->apache-airflow-providers-http->apache-airflow) (6.0.4)\n",
      "Requirement already satisfied: yarl<2.0,>=1.0 in /home/benjamin-jurczak/anaconda3/lib/python3.12/site-packages (from aiohttp!=3.11.0,>=3.9.2->apache-airflow-providers-http->apache-airflow) (1.11.0)\n",
      "Requirement already satisfied: pycparser in /home/benjamin-jurczak/anaconda3/lib/python3.12/site-packages (from cffi>=1.12->cryptography>=41.0.0->apache-airflow) (2.21)\n",
      "Requirement already satisfied: zipp>=0.5 in /home/benjamin-jurczak/anaconda3/lib/python3.12/site-packages (from importlib-metadata<=8.5.0,>=6.0->opentelemetry-api>=1.24.0->apache-airflow) (3.17.0)\n",
      "Requirement already satisfied: dnspython>=2.0.0 in /home/benjamin-jurczak/anaconda3/lib/python3.12/site-packages (from email-validator>=1.0.5->flask-appbuilder==4.5.2->apache-airflow-providers-fab>=1.0.2->apache-airflow) (2.7.0)\n",
      "Requirement already satisfied: Babel>=2.3 in /home/benjamin-jurczak/anaconda3/lib/python3.12/site-packages (from Flask-Babel<3,>=1->flask-appbuilder==4.5.2->apache-airflow-providers-fab>=1.0.2->apache-airflow) (2.15.0)\n",
      "Collecting limits>=3.13 (from Flask-Limiter<4,>3->flask-appbuilder==4.5.2->apache-airflow-providers-fab>=1.0.2->apache-airflow)\n",
      "  Downloading limits-4.0.1-py3-none-any.whl.metadata (7.7 kB)\n",
      "Requirement already satisfied: ordered-set<5,>4 in /home/benjamin-jurczak/anaconda3/lib/python3.12/site-packages (from Flask-Limiter<4,>3->flask-appbuilder==4.5.2->apache-airflow-providers-fab>=1.0.2->apache-airflow) (4.1.0)\n",
      "Collecting opentelemetry-semantic-conventions==0.50b0 (from opentelemetry-sdk~=1.29.0->opentelemetry-exporter-otlp-proto-grpc==1.29.0->opentelemetry-exporter-otlp>=1.24.0->apache-airflow)\n",
      "  Downloading opentelemetry_semantic_conventions-0.50b0-py3-none-any.whl.metadata (2.3 kB)\n",
      "Downloading apache_airflow-2.10.4-py3-none-any.whl (13.4 MB)\n",
      "\u001b[2K   \u001b[90m━━━━━━━━━━━━━━━━━━━━━━━━━━━━━━━━━━━━━━━━\u001b[0m \u001b[32m13.4/13.4 MB\u001b[0m \u001b[31m8.5 MB/s\u001b[0m eta \u001b[36m0:00:00\u001b[0ma \u001b[36m0:00:01\u001b[0m\n",
      "\u001b[?25hDownloading apache_airflow_providers_fab-1.5.2-py3-none-any.whl (97 kB)\n",
      "Downloading Flask_AppBuilder-4.5.2-py3-none-any.whl (2.2 MB)\n",
      "\u001b[2K   \u001b[90m━━━━━━━━━━━━━━━━━━━━━━━━━━━━━━━━━━━━━━━━\u001b[0m \u001b[32m2.2/2.2 MB\u001b[0m \u001b[31m10.2 MB/s\u001b[0m eta \u001b[36m0:00:00\u001b[0ma \u001b[36m0:00:01\u001b[0m\n",
      "\u001b[?25hDownloading apache_airflow_providers_common_compat-1.3.0-py3-none-any.whl (24 kB)\n",
      "Downloading argcomplete-3.5.3-py3-none-any.whl (43 kB)\n",
      "Downloading asgiref-3.8.1-py3-none-any.whl (23 kB)\n",
      "Downloading colorlog-6.9.0-py3-none-any.whl (11 kB)\n",
      "Downloading ConfigUpdater-3.2-py2.py3-none-any.whl (34 kB)\n",
      "Downloading connexion-2.14.2-py2.py3-none-any.whl (95 kB)\n",
      "Downloading cron_descriptor-1.4.5-py3-none-any.whl (50 kB)\n",
      "Using cached croniter-6.0.0-py2.py3-none-any.whl (25 kB)\n",
      "Downloading Flask-2.2.5-py3-none-any.whl (101 kB)\n",
      "Downloading Flask_Caching-2.3.0-py3-none-any.whl (28 kB)\n",
      "Downloading flask_session-0.5.0-py3-none-any.whl (7.2 kB)\n",
      "Downloading flask_wtf-1.2.2-py3-none-any.whl (12 kB)\n",
      "Downloading google_re2-1.1.20240702-1-cp312-cp312-manylinux_2_24_x86_64.manylinux_2_28_x86_64.whl (546 kB)\n",
      "\u001b[2K   \u001b[90m━━━━━━━━━━━━━━━━━━━━━━━━━━━━━━━━━━━━━━━━\u001b[0m \u001b[32m546.8/546.8 kB\u001b[0m \u001b[31m10.7 MB/s\u001b[0m eta \u001b[36m0:00:00\u001b[0m\n",
      "\u001b[?25hDownloading gunicorn-23.0.0-py3-none-any.whl (85 kB)\n",
      "Downloading lockfile-0.12.2-py2.py3-none-any.whl (13 kB)\n",
      "Downloading marshmallow_oneofschema-3.1.1-py3-none-any.whl (5.7 kB)\n",
      "Downloading methodtools-0.4.7-py2.py3-none-any.whl (4.0 kB)\n",
      "Downloading opentelemetry_api-1.29.0-py3-none-any.whl (64 kB)\n",
      "Downloading opentelemetry_exporter_otlp-1.29.0-py3-none-any.whl (7.0 kB)\n",
      "Downloading opentelemetry_exporter_otlp_proto_grpc-1.29.0-py3-none-any.whl (18 kB)\n",
      "Downloading opentelemetry_exporter_otlp_proto_http-1.29.0-py3-none-any.whl (17 kB)\n",
      "Downloading opentelemetry_exporter_otlp_proto_common-1.29.0-py3-none-any.whl (18 kB)\n",
      "Downloading opentelemetry_proto-1.29.0-py3-none-any.whl (55 kB)\n",
      "Downloading pendulum-3.0.0-cp312-cp312-manylinux_2_17_x86_64.manylinux2014_x86_64.whl (384 kB)\n",
      "Downloading python_daemon-3.1.2-py3-none-any.whl (30 kB)\n",
      "Downloading rich_argparse-1.6.0-py3-none-any.whl (20 kB)\n",
      "Downloading setproctitle-1.3.4-cp312-cp312-manylinux_2_5_x86_64.manylinux1_x86_64.manylinux_2_17_x86_64.manylinux2014_x86_64.whl (31 kB)\n",
      "Downloading SQLAlchemy-1.4.54-cp312-cp312-manylinux_2_5_x86_64.manylinux1_x86_64.manylinux_2_17_x86_64.manylinux2014_x86_64.whl (1.6 MB)\n",
      "\u001b[2K   \u001b[90m━━━━━━━━━━━━━━━━━━━━━━━━━━━━━━━━━━━━━━━━\u001b[0m \u001b[32m1.6/1.6 MB\u001b[0m \u001b[31m10.6 MB/s\u001b[0m eta \u001b[36m0:00:00\u001b[0m\n",
      "\u001b[?25hDownloading SQLAlchemy_JSONField-1.0.2-py3-none-any.whl (10 kB)\n",
      "Downloading termcolor-2.5.0-py3-none-any.whl (7.8 kB)\n",
      "Downloading Werkzeug-2.2.3-py3-none-any.whl (233 kB)\n",
      "Downloading apache_airflow_providers_common_io-1.5.0-py3-none-any.whl (19 kB)\n",
      "Downloading apache_airflow_providers_common_sql-1.21.0-py3-none-any.whl (49 kB)\n",
      "Downloading apache_airflow_providers_ftp-3.12.0-py3-none-any.whl (19 kB)\n",
      "Downloading apache_airflow_providers_http-5.0.0-py3-none-any.whl (27 kB)\n",
      "Downloading apache_airflow_providers_imap-3.8.0-py3-none-any.whl (17 kB)\n",
      "Downloading apache_airflow_providers_smtp-1.9.0-py3-none-any.whl (22 kB)\n",
      "Downloading apache_airflow_providers_sqlite-4.0.0-py3-none-any.whl (12 kB)\n",
      "Downloading aiosqlite-0.20.0-py3-none-any.whl (15 kB)\n",
      "Downloading cachelib-0.9.0-py3-none-any.whl (15 kB)\n",
      "Downloading clickclick-20.10.2-py2.py3-none-any.whl (7.4 kB)\n",
      "Downloading Flask_Login-0.6.3-py3-none-any.whl (17 kB)\n",
      "Downloading marshmallow-3.26.0-py3-none-any.whl (50 kB)\n",
      "Downloading time_machine-2.16.0-cp312-cp312-manylinux_2_5_x86_64.manylinux1_x86_64.manylinux_2_17_x86_64.manylinux2014_x86_64.whl (33 kB)\n",
      "Downloading wirerope-1.0.0-py2.py3-none-any.whl (9.2 kB)\n",
      "Downloading wtforms-3.2.1-py3-none-any.whl (152 kB)\n",
      "Downloading apispec-6.8.1-py3-none-any.whl (30 kB)\n",
      "Downloading Flask_Babel-2.0.0-py3-none-any.whl (9.3 kB)\n",
      "Downloading Flask_JWT_Extended-4.7.1-py2.py3-none-any.whl (22 kB)\n",
      "Downloading Flask_Limiter-3.10.1-py3-none-any.whl (28 kB)\n",
      "Downloading Flask_SQLAlchemy-2.5.1-py2.py3-none-any.whl (17 kB)\n",
      "Downloading googleapis_common_protos-1.66.0-py2.py3-none-any.whl (221 kB)\n",
      "Downloading marshmallow_sqlalchemy-0.28.2-py2.py3-none-any.whl (16 kB)\n",
      "Downloading opentelemetry_sdk-1.29.0-py3-none-any.whl (118 kB)\n",
      "Downloading opentelemetry_semantic_conventions-0.50b0-py3-none-any.whl (166 kB)\n",
      "Downloading prison-0.2.1-py2.py3-none-any.whl (5.8 kB)\n",
      "Downloading SQLAlchemy_Utils-0.41.2-py3-none-any.whl (93 kB)\n",
      "Downloading limits-4.0.1-py3-none-any.whl (45 kB)\n",
      "Building wheels for collected packages: python-nvd3\n",
      "  Building wheel for python-nvd3 (setup.py) ... \u001b[?25ldone\n",
      "\u001b[?25h  Created wheel for python-nvd3: filename=python_nvd3-0.16.0-py3-none-any.whl size=37571 sha256=58fe9ef839ddcd2988706f68b8daed01beda970c8423549b58db5c6bd49ae1ae\n",
      "  Stored in directory: /home/benjamin-jurczak/.cache/pip/wheels/97/ca/3e/4acf0f36254adde4cf5654b0b4c6f922068788e397392dca49\n",
      "Successfully built python-nvd3\n",
      "Installing collected packages: lockfile, cron-descriptor, WTForms, wirerope, werkzeug, termcolor, sqlalchemy, setproctitle, python-daemon, prison, opentelemetry-proto, marshmallow, gunicorn, googleapis-common-protos, google-re2, configupdater, colorlog, clickclick, cachelib, asgiref, argcomplete, apispec, aiosqlite, time-machine, sqlalchemy-utils, sqlalchemy-jsonfield, python-nvd3, opentelemetry-exporter-otlp-proto-common, opentelemetry-api, methodtools, marshmallow-sqlalchemy, marshmallow-oneofschema, limits, flask, croniter, rich-argparse, pendulum, opentelemetry-semantic-conventions, flask-wtf, Flask-SQLAlchemy, flask-session, flask-login, Flask-Limiter, Flask-JWT-Extended, flask-caching, Flask-Babel, opentelemetry-sdk, flask-appbuilder, connexion, opentelemetry-exporter-otlp-proto-http, opentelemetry-exporter-otlp-proto-grpc, opentelemetry-exporter-otlp, apache-airflow-providers-common-sql, apache-airflow-providers-common-compat, apache-airflow-providers-sqlite, apache-airflow-providers-smtp, apache-airflow-providers-imap, apache-airflow-providers-http, apache-airflow-providers-ftp, apache-airflow-providers-fab, apache-airflow-providers-common-io, apache-airflow\n",
      "  Attempting uninstall: werkzeug\n",
      "    Found existing installation: Werkzeug 3.0.3\n",
      "    Uninstalling Werkzeug-3.0.3:\n",
      "      Successfully uninstalled Werkzeug-3.0.3\n",
      "  Attempting uninstall: sqlalchemy\n",
      "    Found existing installation: SQLAlchemy 2.0.30\n",
      "    Uninstalling SQLAlchemy-2.0.30:\n",
      "      Successfully uninstalled SQLAlchemy-2.0.30\n",
      "  Attempting uninstall: flask\n",
      "    Found existing installation: Flask 3.0.3\n",
      "    Uninstalling Flask-3.0.3:\n",
      "      Successfully uninstalled Flask-3.0.3\n",
      "Successfully installed Flask-Babel-2.0.0 Flask-JWT-Extended-4.7.1 Flask-Limiter-3.10.1 Flask-SQLAlchemy-2.5.1 WTForms-3.2.1 aiosqlite-0.20.0 apache-airflow-2.10.4 apache-airflow-providers-common-compat-1.3.0 apache-airflow-providers-common-io-1.5.0 apache-airflow-providers-common-sql-1.21.0 apache-airflow-providers-fab-1.5.2 apache-airflow-providers-ftp-3.12.0 apache-airflow-providers-http-5.0.0 apache-airflow-providers-imap-3.8.0 apache-airflow-providers-smtp-1.9.0 apache-airflow-providers-sqlite-4.0.0 apispec-6.8.1 argcomplete-3.5.3 asgiref-3.8.1 cachelib-0.9.0 clickclick-20.10.2 colorlog-6.9.0 configupdater-3.2 connexion-2.14.2 cron-descriptor-1.4.5 croniter-6.0.0 flask-2.2.5 flask-appbuilder-4.5.2 flask-caching-2.3.0 flask-login-0.6.3 flask-session-0.5.0 flask-wtf-1.2.2 google-re2-1.1.20240702 googleapis-common-protos-1.66.0 gunicorn-23.0.0 limits-4.0.1 lockfile-0.12.2 marshmallow-3.26.0 marshmallow-oneofschema-3.1.1 marshmallow-sqlalchemy-0.28.2 methodtools-0.4.7 opentelemetry-api-1.29.0 opentelemetry-exporter-otlp-1.29.0 opentelemetry-exporter-otlp-proto-common-1.29.0 opentelemetry-exporter-otlp-proto-grpc-1.29.0 opentelemetry-exporter-otlp-proto-http-1.29.0 opentelemetry-proto-1.29.0 opentelemetry-sdk-1.29.0 opentelemetry-semantic-conventions-0.50b0 pendulum-3.0.0 prison-0.2.1 python-daemon-3.1.2 python-nvd3-0.16.0 rich-argparse-1.6.0 setproctitle-1.3.4 sqlalchemy-1.4.54 sqlalchemy-jsonfield-1.0.2 sqlalchemy-utils-0.41.2 termcolor-2.5.0 time-machine-2.16.0 werkzeug-2.2.3 wirerope-1.0.0\n",
      "Note: you may need to restart the kernel to use updated packages.\n"
     ]
    }
   ],
   "source": [
    "%pip install apache-airflow"
   ]
  },
  {
   "cell_type": "markdown",
   "id": "fe03ad9b",
   "metadata": {},
   "source": [
    "## **2. Configuration d'Airflow**\n",
    "Avant de démarrer, nous devons initialiser la base de données d'Airflow."
   ]
  },
  {
   "cell_type": "code",
   "execution_count": null,
   "id": "61394979",
   "metadata": {},
   "outputs": [
    {
     "name": "stderr",
     "output_type": "stream",
     "text": [
      "UsageError: Line magic function `%` not found.\n"
     ]
    }
   ],
   "source": [
    "# export AIRFLOW_HOME=~/airflow\n",
    "# airflow db init\n",
    "# airflow webserver -p 8080\n",
    "# airflow scheduler"
   ]
  },
  {
   "cell_type": "markdown",
   "id": "92b9db6b",
   "metadata": {},
   "source": [
    "## **3. Démarrage d'Airflow**\n",
    "Airflow fonctionne avec un **scheduler** et une **interface web**.\n",
    "Les commandes suivantes permettent de les lancer."
   ]
  },
  {
   "cell_type": "code",
   "execution_count": 5,
   "id": "017add78",
   "metadata": {},
   "outputs": [
    {
     "name": "stderr",
     "output_type": "stream",
     "text": [
      "UsageError: Line magic function `%` not found.\n"
     ]
    }
   ],
   "source": [
    "% airflow scheduler &"
   ]
  },
  {
   "cell_type": "code",
   "execution_count": null,
   "id": "d7909636",
   "metadata": {},
   "outputs": [],
   "source": [
    "%airflow webserver -p 8080 &"
   ]
  },
  {
   "cell_type": "markdown",
   "id": "c1a469c9",
   "metadata": {},
   "source": [
    "## **4. Création d'un DAG simple**\n",
    "Un DAG (Directed Acyclic Graph) représente un workflow dans Airflow."
   ]
  },
  {
   "cell_type": "code",
   "execution_count": 7,
   "id": "93bf30d1",
   "metadata": {},
   "outputs": [
    {
     "data": {
      "text/html": [
       "<pre style=\"white-space:pre;overflow-x:auto;line-height:normal;font-family:Menlo,'DejaVu Sans Mono',consolas,'Courier New',monospace\"><span style=\"color: #808000; text-decoration-color: #808000; font-weight: bold\">/tmp/ipykernel_3107075/1938497564.py:</span><span style=\"color: #808000; text-decoration-color: #808000; font-weight: bold\">2</span><span style=\"color: #808000; text-decoration-color: #808000; font-weight: bold\"> DeprecationWarning</span><span style=\"color: #808000; text-decoration-color: #808000\">: The `airflow.operators.dummy_operator.DummyOperator` class is deprecated. Please use `</span><span style=\"color: #808000; text-decoration-color: #808000\">'airflow.operators.empty.EmptyOperator'</span><span style=\"color: #808000; text-decoration-color: #808000\">`.</span>\n",
       "</pre>\n"
      ],
      "text/plain": [
       "\u001b[1;33m/tmp/ipykernel_3107075/\u001b[0m\u001b[1;33m1938497564.py\u001b[0m\u001b[1;33m:\u001b[0m\u001b[1;33m2\u001b[0m\u001b[1;33m DeprecationWarning\u001b[0m\u001b[33m: The `airflow.operators.dummy_operator.DummyOperator` class is deprecated. Please use `\u001b[0m\u001b[33m'airflow.operators.empty.EmptyOperator'\u001b[0m\u001b[33m`.\u001b[0m\n"
      ]
     },
     "metadata": {},
     "output_type": "display_data"
    },
    {
     "data": {
      "text/html": [
       "<pre style=\"white-space:pre;overflow-x:auto;line-height:normal;font-family:Menlo,'DejaVu Sans Mono',consolas,'Courier New',monospace\"><span style=\"color: #808000; text-decoration-color: #808000; font-weight: bold\">/tmp/ipykernel_3107075/1938497564.py:</span><span style=\"color: #808000; text-decoration-color: #808000; font-weight: bold\">3</span><span style=\"color: #808000; text-decoration-color: #808000; font-weight: bold\"> DeprecationWarning</span><span style=\"color: #808000; text-decoration-color: #808000\">: The `airflow.operators.python_operator.PythonOperator` class is deprecated. Please use `</span><span style=\"color: #808000; text-decoration-color: #808000\">'airflow.operators.python.PythonOperator'</span><span style=\"color: #808000; text-decoration-color: #808000\">`.</span>\n",
       "</pre>\n"
      ],
      "text/plain": [
       "\u001b[1;33m/tmp/ipykernel_3107075/\u001b[0m\u001b[1;33m1938497564.py\u001b[0m\u001b[1;33m:\u001b[0m\u001b[1;33m3\u001b[0m\u001b[1;33m DeprecationWarning\u001b[0m\u001b[33m: The `airflow.operators.python_operator.PythonOperator` class is deprecated. Please use `\u001b[0m\u001b[33m'airflow.operators.python.PythonOperator'\u001b[0m\u001b[33m`.\u001b[0m\n"
      ]
     },
     "metadata": {},
     "output_type": "display_data"
    },
    {
     "data": {
      "text/html": [
       "<pre style=\"white-space:pre;overflow-x:auto;line-height:normal;font-family:Menlo,'DejaVu Sans Mono',consolas,'Courier New',monospace\"><span style=\"color: #808000; text-decoration-color: #808000; font-weight: bold\">/tmp/ipykernel_3107075/1938497564.py:</span><span style=\"color: #808000; text-decoration-color: #808000; font-weight: bold\">11</span><span style=\"color: #808000; text-decoration-color: #808000; font-weight: bold\"> RemovedInAirflow3Warning</span><span style=\"color: #808000; text-decoration-color: #808000\">: Param `schedule_interval` is deprecated and will be removed in a future release. Please use `schedule` instead.</span>\n",
       "</pre>\n"
      ],
      "text/plain": [
       "\u001b[1;33m/tmp/ipykernel_3107075/\u001b[0m\u001b[1;33m1938497564.py\u001b[0m\u001b[1;33m:\u001b[0m\u001b[1;33m11\u001b[0m\u001b[1;33m RemovedInAirflow3Warning\u001b[0m\u001b[33m: Param `schedule_interval` is deprecated and will be removed in a future release. Please use `schedule` instead.\u001b[0m\n"
      ]
     },
     "metadata": {},
     "output_type": "display_data"
    },
    {
     "data": {
      "text/plain": [
       "<Task(EmptyOperator): end>"
      ]
     },
     "execution_count": 7,
     "metadata": {},
     "output_type": "execute_result"
    }
   ],
   "source": [
    "\n",
    "from airflow import DAG\n",
    "from airflow.operators.dummy_operator import DummyOperator\n",
    "from airflow.operators.python_operator import PythonOperator\n",
    "from datetime import datetime\n",
    "\n",
    "# Fonction Python simple\n",
    "def print_hello():\n",
    "    print(\"Hello, Airflow!\")\n",
    "\n",
    "# Définition du DAG\n",
    "dag = DAG(\n",
    "    'simple_dag',\n",
    "    description='Un DAG simple avec Airflow',\n",
    "    schedule_interval='@daily',\n",
    "    start_date=datetime(2024, 1, 1),\n",
    "    catchup=False\n",
    ")\n",
    "\n",
    "# Définition des tâches\n",
    "start_task = DummyOperator(task_id='start', dag=dag)\n",
    "hello_task = PythonOperator(task_id='hello', python_callable=print_hello, dag=dag)\n",
    "end_task = DummyOperator(task_id='end', dag=dag)\n",
    "\n",
    "# Définition de l'ordre d'exécution des tâches\n",
    "start_task >> hello_task >> end_task\n"
   ]
  },
  {
   "cell_type": "markdown",
   "id": "6a0581bd",
   "metadata": {},
   "source": [
    "## **5. Exécution d'un DAG**\n",
    "Une fois notre DAG créé, nous pouvons l'exécuter avec la commande suivante :"
   ]
  },
  {
   "cell_type": "code",
   "execution_count": 8,
   "id": "73dbe952",
   "metadata": {},
   "outputs": [
    {
     "name": "stderr",
     "output_type": "stream",
     "text": [
      "UsageError: Line magic function `%airflow` not found.\n"
     ]
    }
   ],
   "source": [
    "%airflow dags list"
   ]
  },
  {
   "cell_type": "code",
   "execution_count": null,
   "id": "3fbe961a",
   "metadata": {},
   "outputs": [],
   "source": [
    "%airflow dags trigger simple_dag"
   ]
  },
  {
   "cell_type": "markdown",
   "id": "f3f71a10",
   "metadata": {},
   "source": [
    "## **6. Utilisation d'Operators Avancés**\n",
    "Airflow propose plusieurs types d'Operators pour orchestrer des tâches."
   ]
  },
  {
   "cell_type": "markdown",
   "id": "4965b61e",
   "metadata": {},
   "source": [
    "### **6.1 BashOperator : Exécuter une commande shell**"
   ]
  },
  {
   "cell_type": "code",
   "execution_count": null,
   "id": "6210ca68",
   "metadata": {},
   "outputs": [],
   "source": [
    "\n",
    "from airflow.operators.bash_operator import BashOperator\n",
    "\n",
    "bash_task = BashOperator(\n",
    "    task_id='print_date',\n",
    "    bash_command='date',\n",
    "    dag=dag\n",
    ")\n",
    "\n",
    "start_task >> bash_task >> hello_task >> end_task\n"
   ]
  },
  {
   "cell_type": "markdown",
   "id": "eca7254b",
   "metadata": {},
   "source": [
    "### **6.2 PythonOperator : Exécuter du code Python**"
   ]
  },
  {
   "cell_type": "code",
   "execution_count": null,
   "id": "cd5055b5",
   "metadata": {},
   "outputs": [],
   "source": [
    "\n",
    "def print_message():\n",
    "    print(\"Airflow exécute cette fonction Python !\")\n",
    "\n",
    "python_task = PythonOperator(\n",
    "    task_id='print_message',\n",
    "    python_callable=print_message,\n",
    "    dag=dag\n",
    ")\n",
    "\n",
    "bash_task >> python_task >> end_task\n"
   ]
  },
  {
   "cell_type": "markdown",
   "id": "a2f7b57f",
   "metadata": {},
   "source": [
    "## **7. Communication entre Tâches avec XComs**\n",
    "Les XComs permettent d'échanger des données entre tâches."
   ]
  },
  {
   "cell_type": "code",
   "execution_count": null,
   "id": "a6117a4d",
   "metadata": {},
   "outputs": [],
   "source": [
    "\n",
    "from airflow.operators.python_operator import PythonOperator\n",
    "\n",
    "def push_data(**kwargs):\n",
    "    kwargs['ti'].xcom_push(key='message', value='Bonjour depuis la tâche A!')\n",
    "\n",
    "def pull_data(**kwargs):\n",
    "    message = kwargs['ti'].xcom_pull(task_ids='push_task', key='message')\n",
    "    print(f\"Message reçu : {message}\")\n",
    "\n",
    "push_task = PythonOperator(task_id='push_task', python_callable=push_data, provide_context=True, dag=dag)\n",
    "pull_task = PythonOperator(task_id='pull_task', python_callable=pull_data, provide_context=True, dag=dag)\n",
    "\n",
    "push_task >> pull_task\n"
   ]
  },
  {
   "cell_type": "markdown",
   "id": "048d64e1",
   "metadata": {},
   "source": [
    "## **8. Connexion à une Base de Données avec Airflow**\n",
    "Airflow permet de se connecter à des bases de données avec les Hooks."
   ]
  },
  {
   "cell_type": "code",
   "execution_count": null,
   "id": "2bc5bcc2",
   "metadata": {},
   "outputs": [],
   "source": [
    "\n",
    "from airflow.providers.sqlite.hooks.sqlite import SqliteHook\n",
    "\n",
    "def fetch_data():\n",
    "    hook = SqliteHook(sqlite_conn_id='sqlite_default')\n",
    "    result = hook.get_records(\"SELECT * FROM example_table\")\n",
    "    print(result)\n",
    "\n",
    "fetch_task = PythonOperator(task_id='fetch_data', python_callable=fetch_data, dag=dag)\n",
    "pull_task >> fetch_task\n"
   ]
  },
  {
   "cell_type": "markdown",
   "id": "b72c2d29",
   "metadata": {},
   "source": [
    "## **9. Arrêt d'Airflow**"
   ]
  },
  {
   "cell_type": "code",
   "execution_count": null,
   "id": "fc47a2ab",
   "metadata": {},
   "outputs": [],
   "source": [
    "%pkill -f 'airflow webserver'"
   ]
  },
  {
   "cell_type": "code",
   "execution_count": null,
   "id": "54e9b8ed",
   "metadata": {},
   "outputs": [],
   "source": [
    "%pkill -f 'airflow scheduler'"
   ]
  },
  {
   "cell_type": "markdown",
   "id": "656b518c",
   "metadata": {},
   "source": [
    "## **10. Conclusion**\n",
    "- Nous avons vu comment installer et utiliser Airflow.\n",
    "- Création et exécution d'un DAG simple.\n",
    "- Utilisation des Operators et XComs.\n",
    "\n",
    "**À tester :** Essayez de créer votre propre DAG avec plusieurs tâches ! 🚀"
   ]
  }
 ],
 "metadata": {
  "kernelspec": {
   "display_name": "base",
   "language": "python",
   "name": "python3"
  },
  "language_info": {
   "codemirror_mode": {
    "name": "ipython",
    "version": 3
   },
   "file_extension": ".py",
   "mimetype": "text/x-python",
   "name": "python",
   "nbconvert_exporter": "python",
   "pygments_lexer": "ipython3",
   "version": "3.12.7"
  }
 },
 "nbformat": 4,
 "nbformat_minor": 5
}
